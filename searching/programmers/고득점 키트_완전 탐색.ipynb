{
 "cells": [
  {
   "cell_type": "markdown",
   "id": "2d12a49b",
   "metadata": {},
   "source": [
    "## 최소직사각형"
   ]
  },
  {
   "cell_type": "code",
   "execution_count": 1,
   "id": "4985b49a",
   "metadata": {},
   "outputs": [],
   "source": [
    "test = [[60, 50], [30, 70], [60, 30], [80, 40]]"
   ]
  },
  {
   "cell_type": "code",
   "execution_count": 6,
   "id": "05a382dd",
   "metadata": {},
   "outputs": [
    {
     "data": {
      "text/plain": [
       "[80, 40]"
      ]
     },
     "execution_count": 6,
     "metadata": {},
     "output_type": "execute_result"
    }
   ],
   "source": [
    "max(test)"
   ]
  },
  {
   "cell_type": "code",
   "execution_count": 7,
   "id": "76cb2485",
   "metadata": {},
   "outputs": [
    {
     "data": {
      "text/plain": [
       "[30, 70]"
      ]
     },
     "execution_count": 7,
     "metadata": {},
     "output_type": "execute_result"
    }
   ],
   "source": [
    "min(test)"
   ]
  },
  {
   "cell_type": "code",
   "execution_count": 10,
   "id": "32a2d77d",
   "metadata": {},
   "outputs": [],
   "source": [
    "def solution(sizes):\n",
    "    result = max(max(x) for x in sizes) * max(min(x) for x in sizes)\n",
    "    return result"
   ]
  },
  {
   "cell_type": "code",
   "execution_count": 11,
   "id": "baed7ccc",
   "metadata": {},
   "outputs": [
    {
     "data": {
      "text/plain": [
       "4000"
      ]
     },
     "execution_count": 11,
     "metadata": {},
     "output_type": "execute_result"
    }
   ],
   "source": [
    "solution(test)"
   ]
  },
  {
   "cell_type": "markdown",
   "id": "fed2fd56",
   "metadata": {},
   "source": [
    "## 모의고사"
   ]
  },
  {
   "cell_type": "code",
   "execution_count": 23,
   "id": "071c9cec",
   "metadata": {},
   "outputs": [],
   "source": [
    "def solution(answers):\n",
    "    answer1 = [1, 2, 3, 4, 5]\n",
    "    answer2 = [2, 1, 2, 3, 2, 4, 2, 5]\n",
    "    answer3 = [3, 3, 1, 1, 2, 2, 4, 4, 5, 5]\n",
    "    point = [0, 0, 0]\n",
    "    for i in range(len(answers)):\n",
    "        if answers[i] == answer1[i%5]:\n",
    "            point[0] += 1\n",
    "        if answers[i] == answer2[i%8]:\n",
    "            point[1] += 1\n",
    "        if answers[i] == answer2[i%10]:\n",
    "            point[2] += 1\n",
    "    return sorted([i+1 for i, x in enumerate(point) if x==max(point)])"
   ]
  },
  {
   "cell_type": "code",
   "execution_count": 24,
   "id": "55063947",
   "metadata": {},
   "outputs": [
    {
     "data": {
      "text/plain": [
       "[1]"
      ]
     },
     "execution_count": 24,
     "metadata": {},
     "output_type": "execute_result"
    }
   ],
   "source": [
    "solution([1, 2, 3, 4, 5])"
   ]
  },
  {
   "cell_type": "code",
   "execution_count": 25,
   "id": "12ceabde",
   "metadata": {},
   "outputs": [
    {
     "data": {
      "text/plain": [
       "[1, 2, 3]"
      ]
     },
     "execution_count": 25,
     "metadata": {},
     "output_type": "execute_result"
    }
   ],
   "source": [
    "solution([1, 3, 2, 4, 2])"
   ]
  },
  {
   "cell_type": "code",
   "execution_count": null,
   "id": "822c763e",
   "metadata": {},
   "outputs": [],
   "source": []
  }
 ],
 "metadata": {
  "kernelspec": {
   "display_name": "Python 3 (ipykernel)",
   "language": "python",
   "name": "python3"
  },
  "language_info": {
   "codemirror_mode": {
    "name": "ipython",
    "version": 3
   },
   "file_extension": ".py",
   "mimetype": "text/x-python",
   "name": "python",
   "nbconvert_exporter": "python",
   "pygments_lexer": "ipython3",
   "version": "3.9.7"
  }
 },
 "nbformat": 4,
 "nbformat_minor": 5
}
