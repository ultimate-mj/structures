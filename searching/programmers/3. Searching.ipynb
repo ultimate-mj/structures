{
 "cells": [
  {
   "cell_type": "markdown",
   "id": "59bb8446",
   "metadata": {},
   "source": [
    "## 탐색 알고리즘"
   ]
  },
  {
   "cell_type": "code",
   "execution_count": 12,
   "id": "45a62aa9",
   "metadata": {},
   "outputs": [],
   "source": [
    "def linear_search(L, x):\n",
    "    i=0\n",
    "    while i<len(L) and L[i] != x:\n",
    "        i+=1\n",
    "    if i < len(L):\n",
    "        return i\n",
    "    else:\n",
    "        return -1"
   ]
  },
  {
   "cell_type": "code",
   "execution_count": 13,
   "id": "9f1536a2",
   "metadata": {},
   "outputs": [],
   "source": [
    "S = [3, 8, 2, 7, 6, 10, 9]"
   ]
  },
  {
   "cell_type": "code",
   "execution_count": 14,
   "id": "96a95135",
   "metadata": {},
   "outputs": [
    {
     "data": {
      "text/plain": [
       "4"
      ]
     },
     "execution_count": 14,
     "metadata": {},
     "output_type": "execute_result"
    }
   ],
   "source": [
    "linear_search(S, 6)"
   ]
  },
  {
   "cell_type": "code",
   "execution_count": 16,
   "id": "50083549",
   "metadata": {},
   "outputs": [
    {
     "data": {
      "text/plain": [
       "-1"
      ]
     },
     "execution_count": 16,
     "metadata": {},
     "output_type": "execute_result"
    }
   ],
   "source": [
    "linear_search(S, 1)"
   ]
  },
  {
   "cell_type": "code",
   "execution_count": 18,
   "id": "229c48c9",
   "metadata": {},
   "outputs": [
    {
     "data": {
      "text/plain": [
       "4"
      ]
     },
     "execution_count": 18,
     "metadata": {},
     "output_type": "execute_result"
    }
   ],
   "source": [
    "S.index(6) #index 함수와 동일한 결과"
   ]
  },
  {
   "cell_type": "markdown",
   "id": "f8b065b9",
   "metadata": {},
   "source": [
    "## 이진 탐색 코드 구현"
   ]
  },
  {
   "cell_type": "code",
   "execution_count": null,
   "id": "cd5aa9e3",
   "metadata": {},
   "outputs": [],
   "source": [
    "lower = 0\n",
    "upper = len(L) - 1\n",
    "idx = -1\n",
    "while lower <= upper:\n",
    "    middle = (lower + upper) //2\n",
    "    if L[middle] == target:\n",
    "        ...\n",
    "    elif L[middle] < target:\n",
    "        lower = ...\n",
    "    else:\n",
    "        upper = ..."
   ]
  },
  {
   "cell_type": "markdown",
   "id": "446c4b6e",
   "metadata": {},
   "source": [
    "## 연습문제"
   ]
  },
  {
   "cell_type": "code",
   "execution_count": 19,
   "id": "f6ddeebe",
   "metadata": {},
   "outputs": [],
   "source": [
    "def solution_my(L, x):\n",
    "    lower = 0\n",
    "    upper = len(L)-1\n",
    "    while lower +1 <= upper:\n",
    "        middle = (lower + upper) // 2\n",
    "        if L[middle] == x:\n",
    "            return middle\n",
    "        elif L[middle] < x:\n",
    "            lower = middle + 1  # +1 을 해야 함\n",
    "        else:\n",
    "            upper = middle - 1  # -1 을 해야 함\n",
    "            break\n",
    "    return -1"
   ]
  },
  {
   "cell_type": "code",
   "execution_count": null,
   "id": "99e9330b",
   "metadata": {},
   "outputs": [],
   "source": [
    "def solution_other(L, x):\n",
    "    low=0\n",
    "    high=len(L)-1\n",
    "    while(low<=high):\n",
    "        mid=low+(high-low)//2\n",
    "        if(L[mid]==x):\n",
    "            return mid\n",
    "        elif(L[mid]>x):\n",
    "            high=mid-1\n",
    "        else:\n",
    "            low=mid+1\n",
    "    return -1 "
   ]
  }
 ],
 "metadata": {
  "kernelspec": {
   "display_name": "Python 3 (ipykernel)",
   "language": "python",
   "name": "python3"
  },
  "language_info": {
   "codemirror_mode": {
    "name": "ipython",
    "version": 3
   },
   "file_extension": ".py",
   "mimetype": "text/x-python",
   "name": "python",
   "nbconvert_exporter": "python",
   "pygments_lexer": "ipython3",
   "version": "3.9.7"
  }
 },
 "nbformat": 4,
 "nbformat_minor": 5
}
