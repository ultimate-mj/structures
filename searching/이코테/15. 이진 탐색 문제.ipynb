{
 "cells": [
  {
   "cell_type": "markdown",
   "id": "2df16516",
   "metadata": {},
   "source": [
    "# 28. 고정점 찾기"
   ]
  },
  {
   "cell_type": "code",
   "execution_count": 5,
   "id": "d52de298",
   "metadata": {},
   "outputs": [
    {
     "name": "stdout",
     "output_type": "stream",
     "text": [
      "5\n",
      "3 2 1 3 7\n",
      "3\n"
     ]
    }
   ],
   "source": [
    "n = int(input())\n",
    "array = list(map(int, input().split()))\n",
    "\n",
    "answer = -1\n",
    "for i, x in enumerate(array):\n",
    "    if i == x:\n",
    "        answer = x\n",
    "print(answer)"
   ]
  },
  {
   "cell_type": "code",
   "execution_count": 6,
   "id": "bbab0d84",
   "metadata": {},
   "outputs": [
    {
     "name": "stdout",
     "output_type": "stream",
     "text": [
      "5\n",
      "2 5 1 3 7\n",
      "3\n"
     ]
    }
   ],
   "source": [
    "n = int(input())\n",
    "array = list(map(int, input().split()))\n",
    "\n",
    "answer = -1\n",
    "\n",
    "def binary_search(array, start, end):\n",
    "    if start > end:\n",
    "        return None\n",
    "    mid = (start + end) // 2\n",
    "    if array[mid] == mid:\n",
    "        return mid\n",
    "    elif array[mid] > mid:\n",
    "        return binary_search(array, start, mid-1)\n",
    "    else:\n",
    "        return binary_search(array, mid+1, end)\n",
    "\n",
    "result = binary_search(array, 0, n-1)\n",
    "if result == None:\n",
    "    print(-1)\n",
    "else:\n",
    "    print(result)"
   ]
  },
  {
   "cell_type": "code",
   "execution_count": null,
   "id": "e1d39dd0",
   "metadata": {},
   "outputs": [],
   "source": []
  }
 ],
 "metadata": {
  "kernelspec": {
   "display_name": "Python 3 (ipykernel)",
   "language": "python",
   "name": "python3"
  },
  "language_info": {
   "codemirror_mode": {
    "name": "ipython",
    "version": 3
   },
   "file_extension": ".py",
   "mimetype": "text/x-python",
   "name": "python",
   "nbconvert_exporter": "python",
   "pygments_lexer": "ipython3",
   "version": "3.9.7"
  }
 },
 "nbformat": 4,
 "nbformat_minor": 5
}
