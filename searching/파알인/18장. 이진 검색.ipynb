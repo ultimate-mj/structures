{
 "cells": [
  {
   "cell_type": "markdown",
   "id": "e415846d",
   "metadata": {},
   "source": [
    "# 67. 두 배열의 교집합"
   ]
  },
  {
   "cell_type": "code",
   "execution_count": 13,
   "id": "f7375b1f",
   "metadata": {},
   "outputs": [],
   "source": [
    "def intersection(self, nums1, nums2):\n",
    "    result = set()\n",
    "    for n1 in nums1:\n",
    "        for n2 in nums2:\n",
    "            if n1==n2:\n",
    "                result.add(n1)\n",
    "    return result"
   ]
  },
  {
   "cell_type": "code",
   "execution_count": 14,
   "id": "dc8476b5",
   "metadata": {},
   "outputs": [],
   "source": [
    "def intersection(self, nums1, nums2):\n",
    "    result = set()\n",
    "    nums2.sort()   #n2 만 sort\n",
    "    for n1 in nums1:\n",
    "        i2 = bisect.bisect_left(nums2, n1)  #n2에서 이진 탐색\n",
    "        if len(nums2) > 0 and len(nums2) > i2 and n1 == nums2[i2]:\n",
    "            result.add(n1)\n",
    "    \n",
    "    return result"
   ]
  },
  {
   "cell_type": "code",
   "execution_count": 15,
   "id": "1e2dd3b4",
   "metadata": {},
   "outputs": [],
   "source": [
    "def intersection(self, nums1, nums2):\n",
    "    result = set()\n",
    "    nums1.sort()\n",
    "    nums2.sort()\n",
    "    i = j = 0\n",
    "    while i < len(nums1) and j < len(nums2):\n",
    "        if nums1[i] > nums2[j]:\n",
    "            j += 1\n",
    "        elif nums1[i] < nums2[j]:\n",
    "            i += 1\n",
    "        else:\n",
    "            result.add(nums1[i])\n",
    "            i += 1\n",
    "            j += 1\n",
    "    return result"
   ]
  },
  {
   "cell_type": "markdown",
   "id": "161b6d33",
   "metadata": {},
   "source": [
    "# 68. 두 수의 합"
   ]
  },
  {
   "cell_type": "code",
   "execution_count": 16,
   "id": "bb78a29b",
   "metadata": {},
   "outputs": [],
   "source": [
    "def twoSum(numbers, target):\n",
    "    left, right = 0, len(numbers) - 1\n",
    "    while not left == right:\n",
    "        if numbers[left] + numbers[right] < target:\n",
    "            left += 1\n",
    "        elif numbers[left] + numbers[right] > target:\n",
    "            right -= 1\n",
    "        else:\n",
    "            return left + 1, right + 1"
   ]
  },
  {
   "cell_type": "code",
   "execution_count": 21,
   "id": "9ec38b35",
   "metadata": {},
   "outputs": [],
   "source": [
    "def twoSum(numbers, target):\n",
    "    for k, v in enumerate(numbers):\n",
    "        left, right = k+1, len(numbers) - 1\n",
    "        expected = target - v  #left 가 v 이므로 나머지가 expected 값이 되어야 함\n",
    "        #이진 검색으로 나머지 값 판별\n",
    "        while left <= right:\n",
    "            mid = left + (right - left)//2\n",
    "            if numbers[mid] < expected:\n",
    "                left = mid+1\n",
    "            elif numbers[mid] > expected:\n",
    "                right = mid - 1\n",
    "            else:\n",
    "                return k+1, mid+1\n"
   ]
  },
  {
   "cell_type": "code",
   "execution_count": 22,
   "id": "0dce5941",
   "metadata": {},
   "outputs": [],
   "source": [
    "def twoSum(numbers, target):\n",
    "    for k, v in enumerate(numbers):\n",
    "        expected = target - v\n",
    "        i = bisect.bisect_left(numbers[k+1:], expected)  #expected 가 들어갈 위치를 찾고\n",
    "        if i < len(numbers[k+1:]) and numbers[i+k+1] == expected:  #그 위치에 있는 값이 실제로 같다면\n",
    "            return k+1, i+k+2 "
   ]
  },
  {
   "cell_type": "code",
   "execution_count": 23,
   "id": "b1ab9da1",
   "metadata": {},
   "outputs": [],
   "source": [
    "def twoSum(numbers, target):\n",
    "    for k, v in enumerate(numbers):\n",
    "        expected = target - v\n",
    "        nums = numbers[k+1:]  #슬라이싱을 한 번만 하도록 nums 지정\n",
    "        i = bisect.bisect_left(nums, expected)  \n",
    "        if i < len(nums) and numbers[i+k+1] == expected:  \n",
    "            return k+1, i+k+2 "
   ]
  },
  {
   "cell_type": "code",
   "execution_count": 24,
   "id": "8e6235b5",
   "metadata": {},
   "outputs": [],
   "source": [
    "def twoSum(numbers, target):\n",
    "    for k, v in enumerate(numbers):\n",
    "        expected = target - v\n",
    "        i = bisect.bisect_left(nums, expected, k+1)  #lo 지정  \n",
    "        if i < len(numbers) and numbers[i] == expected:  \n",
    "            return k+1, i+1"
   ]
  },
  {
   "cell_type": "code",
   "execution_count": null,
   "id": "c0267a97",
   "metadata": {},
   "outputs": [],
   "source": []
  }
 ],
 "metadata": {
  "kernelspec": {
   "display_name": "Python 3 (ipykernel)",
   "language": "python",
   "name": "python3"
  },
  "language_info": {
   "codemirror_mode": {
    "name": "ipython",
    "version": 3
   },
   "file_extension": ".py",
   "mimetype": "text/x-python",
   "name": "python",
   "nbconvert_exporter": "python",
   "pygments_lexer": "ipython3",
   "version": "3.9.7"
  }
 },
 "nbformat": 4,
 "nbformat_minor": 5
}
