{
 "cells": [
  {
   "cell_type": "markdown",
   "id": "e415846d",
   "metadata": {},
   "source": [
    "# 67. 두 배열의 교집합"
   ]
  },
  {
   "cell_type": "code",
   "execution_count": 3,
   "id": "f7375b1f",
   "metadata": {},
   "outputs": [],
   "source": [
    "def intersection(self, nums1, nums2):\n",
    "    result = set()\n",
    "    for n1 in nums1:\n",
    "        for n2 in nums2:\n",
    "            if n1==n2:\n",
    "                result.add(n1)\n",
    "    return result"
   ]
  },
  {
   "cell_type": "code",
   "execution_count": 2,
   "id": "dc8476b5",
   "metadata": {},
   "outputs": [],
   "source": [
    "def intersection(self, nums1, nums2):\n",
    "    result = set()\n",
    "    nums2.sort()   #n2 만 sort\n",
    "    for n1 in nums1:\n",
    "        i2 = bisect.bisect_left(nums2, n1)  #n2에서 이진 탐색\n",
    "        if len(nums2) > 0 and len(nums2) > i2 and n1 == nums2[i2]:\n",
    "            result.add(n1)\n",
    "    \n",
    "    return result"
   ]
  },
  {
   "cell_type": "code",
   "execution_count": 4,
   "id": "1e2dd3b4",
   "metadata": {},
   "outputs": [],
   "source": [
    "def intersection(self, nums1, nums2):\n",
    "    result = set()\n",
    "    nums1.sort()\n",
    "    nums2.sort()\n",
    "    i = j = 0\n",
    "    while i < len(nums1) and j < len(nums2):\n",
    "        if nums1[i] > nums2[j]:\n",
    "            j += 1\n",
    "        elif nums1[i] < nums2[j]:\n",
    "            i += 1\n",
    "        else:\n",
    "            result.add(nums1[i])\n",
    "            i += 1\n",
    "            j += 1\n",
    "    return result"
   ]
  },
  {
   "cell_type": "markdown",
   "id": "161b6d33",
   "metadata": {},
   "source": [
    "# 68. 두 수의 합"
   ]
  },
  {
   "cell_type": "code",
   "execution_count": null,
   "id": "bb78a29b",
   "metadata": {},
   "outputs": [],
   "source": [
    "def twoSum(numbers, target):\n",
    "    left, right = 0, len(numbers) - 1\n",
    "    while not left == right:\n",
    "        if numbers[left] + numbers[right] < target:\n",
    "            left += 1\n",
    "        elif numbers[left] + numbers[right] > target:\n",
    "            right -= 1\n",
    "        else:\n",
    "            return left + 1, right + 1"
   ]
  }
 ],
 "metadata": {
  "kernelspec": {
   "display_name": "Python 3 (ipykernel)",
   "language": "python",
   "name": "python3"
  },
  "language_info": {
   "codemirror_mode": {
    "name": "ipython",
    "version": 3
   },
   "file_extension": ".py",
   "mimetype": "text/x-python",
   "name": "python",
   "nbconvert_exporter": "python",
   "pygments_lexer": "ipython3",
   "version": "3.9.7"
  }
 },
 "nbformat": 4,
 "nbformat_minor": 5
}
