{
 "cells": [
  {
   "cell_type": "markdown",
   "id": "47f41470",
   "metadata": {},
   "source": [
    "# 14강"
   ]
  },
  {
   "cell_type": "code",
   "execution_count": 1,
   "id": "f8e3319f",
   "metadata": {},
   "outputs": [],
   "source": [
    "class ArrayQueue:\n",
    "    def __init__(self): #빈 큐를 초기화\n",
    "        self.data = []\n",
    "    \n",
    "    def size(self):  #큐의 크기를 리턴\n",
    "        return len(self.data)\n",
    "        \n",
    "    def isEmpty(self):\n",
    "        return self.size() == 0 \n",
    "    \n",
    "    def enqueue(self, item):  \n",
    "        self.data.append(item)  #스택의 push와 동일\n",
    "        \n",
    "     ### 여기까지 스택과 동일\n",
    "        \n",
    "    def dequeue(self):  #데이터 원소를 삭제 (리턴)\n",
    "        return self.data.pop(0)  #0번째 index에 있는 것을 리턴!!!\n",
    "    \n",
    "    def peek(self):  #큐의 맨 앞 원소 반환\n",
    "        return self.data[0]  #0번째라는 것이 다름"
   ]
  },
  {
   "cell_type": "code",
   "execution_count": 2,
   "id": "b15a9963",
   "metadata": {},
   "outputs": [
    {
     "data": {
      "text/plain": [
       "['__class__',\n",
       " '__delattr__',\n",
       " '__dict__',\n",
       " '__dir__',\n",
       " '__doc__',\n",
       " '__eq__',\n",
       " '__format__',\n",
       " '__ge__',\n",
       " '__getattribute__',\n",
       " '__gt__',\n",
       " '__hash__',\n",
       " '__init__',\n",
       " '__init_subclass__',\n",
       " '__le__',\n",
       " '__lt__',\n",
       " '__module__',\n",
       " '__ne__',\n",
       " '__new__',\n",
       " '__reduce__',\n",
       " '__reduce_ex__',\n",
       " '__repr__',\n",
       " '__setattr__',\n",
       " '__sizeof__',\n",
       " '__str__',\n",
       " '__subclasshook__',\n",
       " '__weakref__',\n",
       " 'dequeue',\n",
       " 'enqueue',\n",
       " 'isEmpty',\n",
       " 'items',\n",
       " 'size']"
      ]
     },
     "execution_count": 2,
     "metadata": {},
     "output_type": "execute_result"
    }
   ],
   "source": [
    "from pythonds.basic.queue import Queue\n",
    "Q = Queue()\n",
    "dir(Q)"
   ]
  },
  {
   "cell_type": "markdown",
   "id": "440e3e33",
   "metadata": {},
   "source": [
    "## 연습문제"
   ]
  },
  {
   "cell_type": "code",
   "execution_count": 3,
   "id": "6dbd0b7e",
   "metadata": {},
   "outputs": [],
   "source": [
    "class LinkedListQueue:\n",
    "    def __init__(self):\n",
    "        self.data = DoublyLinkedList()\n",
    "        \n",
    "    def size(self):\n",
    "        return self.data.getLength()\n",
    "    \n",
    "    def isEmpty(self): \n",
    "        return self.size() == 0  #or self.data.nodeCount == 0\n",
    "    \n",
    "    def enqueue(self, item):\n",
    "        node = Node(item)  #새로 만든 노드를\n",
    "        self.data.insertAt(self.size() + 1, node)  #제일 앞에 추가\n",
    "        \n",
    "    def dequeue(self):\n",
    "        return self.data.popAt(1)\n",
    "    \n",
    "    def peek(self):\n",
    "        return self.data.getAt(1).data"
   ]
  },
  {
   "cell_type": "markdown",
   "id": "5e4d0ed1",
   "metadata": {},
   "source": [
    "# 15강"
   ]
  },
  {
   "cell_type": "code",
   "execution_count": 4,
   "id": "22156d27",
   "metadata": {},
   "outputs": [],
   "source": [
    "class CircularQueue:\n",
    "    def __init__(self, n):\n",
    "        self.maxCount = n   #인자로 주어진 최대 큐 길이 설정\n",
    "        self.data = [None]*n   #실제 값을 넣으려는 리스트\n",
    "        self.count = 0\n",
    "        self.front = -1  #이렇게 해야 나중에 편해짐\n",
    "        self.rear = -1\n",
    "        \n",
    "    def size(self):  #현재 큐 길이 반환\n",
    "        return self.count\n",
    "    \n",
    "    def isEmpty(self):\n",
    "        return self.count == 0\n",
    "    \n",
    "    def isFull(self):\n",
    "        return self.count == self.maxCount\n",
    "    \n",
    "    def enqueue(self, x): #연습문제\n",
    "        if self.isFull():\n",
    "            raise IndexError('Queue full') \n",
    "        self.rear = (self.rear+1) % self.maxCount\n",
    "        self.data[self.rear] = x\n",
    "        self.count += 1\n",
    "        \n",
    "    def dequeue(self): #연습문제\n",
    "        if self.isEmpty():\n",
    "            raise IndexError('Queue empty')\n",
    "        self.front = (self.front+1) % self.maxCount\n",
    "        x = self.data[self.front]\n",
    "        self.count -= 1\n",
    "        return x\n",
    "    \n",
    "    def peek(self):\n",
    "        if self.isEmpty():\n",
    "            raise IndexError('Queue empty')\n",
    "        return self.data[(self.front+1) % self.maxCount]"
   ]
  },
  {
   "cell_type": "markdown",
   "id": "146f560a",
   "metadata": {},
   "source": [
    "# 16강"
   ]
  },
  {
   "cell_type": "code",
   "execution_count": null,
   "id": "ee97fe17",
   "metadata": {},
   "outputs": [],
   "source": [
    "from doublylinkedlist import Node, DoublyLinkedList\n",
    "\n",
    "class PriorityQueue:\n",
    "    def __init__(self, x):\n",
    "        self.queue = DoublyLinkedList()\n",
    "    \n",
    "    # 주의: 양방향 연결 리스트의 getAt() 메소드를 이용하지 않음\n",
    "    # getAt()를 사용하면 그 칸까지 매번 다 세야 하기 때문에\n",
    "    #연습문제\n",
    "    def enqueue(self, x):\n",
    "        newNode = Node(x)\n",
    "        curr = self.queue.head  #처음 어디서 시작하는지\n",
    "        while curr.next != self.queue.tail and x < curr.next.data:   #끝을 만나지 않는 동안  #우선순위를 비교하는 조건\n",
    "            curr = curr.next\n",
    "        self.queue.insertAfter(curr, newNode)  #insert after 이나 insert before 일 것 # 어느 위치에 삽입?\n",
    "    \n",
    "    \n",
    "    #나머지 메소드는 지난 번 큐의 것과 똑같음"
   ]
  }
 ],
 "metadata": {
  "kernelspec": {
   "display_name": "Python 3 (ipykernel)",
   "language": "python",
   "name": "python3"
  },
  "language_info": {
   "codemirror_mode": {
    "name": "ipython",
    "version": 3
   },
   "file_extension": ".py",
   "mimetype": "text/x-python",
   "name": "python",
   "nbconvert_exporter": "python",
   "pygments_lexer": "ipython3",
   "version": "3.9.7"
  }
 },
 "nbformat": 4,
 "nbformat_minor": 5
}
