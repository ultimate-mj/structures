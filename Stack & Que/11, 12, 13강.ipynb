{
 "cells": [
  {
   "cell_type": "code",
   "execution_count": 16,
   "id": "b76d2f91",
   "metadata": {},
   "outputs": [],
   "source": [
    "class ArrayStack:\n",
    "    def __init__(self):  #초기화\n",
    "        self.data = []\n",
    "    \n",
    "    def size(self):  #스택의 크기를 리턴\n",
    "        return len(self.data)\n",
    "    \n",
    "    def isEmpty(self):  #스택이 비어 있는지 판단\n",
    "        return self.size() == 0\n",
    "    \n",
    "    def push(self, item):\n",
    "        self.data.append(item)  #데이터 원소를 추가\n",
    "        \n",
    "    def pop(self):  #데이터 원소를 삭제 (리턴)\n",
    "        return self.data.pop()\n",
    "    \n",
    "    def peek(self):  #스택의 꼭대기 원소 반환\n",
    "        return self.data[-1]"
   ]
  },
  {
   "cell_type": "code",
   "execution_count": 29,
   "id": "efe3b3b2",
   "metadata": {},
   "outputs": [
    {
     "name": "stdout",
     "output_type": "stream",
     "text": [
      "<__main__.ArrayStack object at 0x000001C3E5F75580>\n"
     ]
    }
   ],
   "source": [
    "S = ArrayStack()\n",
    "\n",
    "S.push('d')\n",
    "\n",
    "print(S)"
   ]
  },
  {
   "cell_type": "code",
   "execution_count": 30,
   "id": "3c5966de",
   "metadata": {},
   "outputs": [
    {
     "data": {
      "text/plain": [
       "'c'"
      ]
     },
     "execution_count": 30,
     "metadata": {},
     "output_type": "execute_result"
    }
   ],
   "source": [
    "S.push('c')\n",
    "\n",
    "S.peek()"
   ]
  },
  {
   "cell_type": "code",
   "execution_count": 2,
   "id": "764f0ca3",
   "metadata": {},
   "outputs": [
    {
     "ename": "ModuleNotFoundError",
     "evalue": "No module named 'doublylinkedlist'",
     "output_type": "error",
     "traceback": [
      "\u001b[1;31m---------------------------------------------------------------------------\u001b[0m",
      "\u001b[1;31mModuleNotFoundError\u001b[0m                       Traceback (most recent call last)",
      "\u001b[1;32m~\\AppData\\Local\\Temp/ipykernel_8408/277771438.py\u001b[0m in \u001b[0;36m<module>\u001b[1;34m\u001b[0m\n\u001b[1;32m----> 1\u001b[1;33m \u001b[1;32mfrom\u001b[0m \u001b[0mdoublylinkedlist\u001b[0m \u001b[1;32mimport\u001b[0m \u001b[0mNode\u001b[0m\u001b[1;33m\u001b[0m\u001b[1;33m\u001b[0m\u001b[0m\n\u001b[0m\u001b[0;32m      2\u001b[0m \u001b[1;32mfrom\u001b[0m \u001b[0mdoublylinkedlist\u001b[0m \u001b[1;32mimport\u001b[0m \u001b[0mDoublyLinkedList\u001b[0m\u001b[1;33m\u001b[0m\u001b[1;33m\u001b[0m\u001b[0m\n\u001b[0;32m      3\u001b[0m \u001b[1;33m\u001b[0m\u001b[0m\n\u001b[0;32m      4\u001b[0m \u001b[1;32mclass\u001b[0m \u001b[0mLinkedListStack\u001b[0m\u001b[1;33m:\u001b[0m\u001b[1;33m\u001b[0m\u001b[1;33m\u001b[0m\u001b[0m\n\u001b[0;32m      5\u001b[0m     \u001b[1;32mdef\u001b[0m \u001b[0m__init\u001b[0m\u001b[1;33m(\u001b[0m\u001b[0mself\u001b[0m\u001b[1;33m)\u001b[0m\u001b[1;33m:\u001b[0m\u001b[1;33m\u001b[0m\u001b[1;33m\u001b[0m\u001b[0m\n",
      "\u001b[1;31mModuleNotFoundError\u001b[0m: No module named 'doublylinkedlist'"
     ]
    }
   ],
   "source": [
    "from doublylinkedlist import Node\n",
    "from doublylinkedlist import DoublyLinkedList\n",
    "\n",
    "class LinkedListStack:\n",
    "    def __init(self):  #초기화\n",
    "        self.data = DoublyLinkedList()\n",
    "        \n",
    "    def size(self): \n",
    "        return self.data.getLength()\n",
    "    \n",
    "    def isEmpty(self):  #array와 똑같음\n",
    "        return self.size() == 0\n",
    "    \n",
    "    def push(self, item):\n",
    "        node = Node(item)  #새로 만든 노드를\n",
    "        self.data.insertAt(self.size() + 1, node)  #마지막에 추가\n",
    "    \n",
    "    def pop(self):\n",
    "        return self.data.popAt(self.size())\n",
    "    \n",
    "    def peek(self):\n",
    "        return self.data.getAt(self.size()).data"
   ]
  },
  {
   "cell_type": "code",
   "execution_count": 7,
   "id": "e43912d9",
   "metadata": {},
   "outputs": [
    {
     "data": {
      "text/plain": [
       "['__class__',\n",
       " '__delattr__',\n",
       " '__dict__',\n",
       " '__dir__',\n",
       " '__doc__',\n",
       " '__eq__',\n",
       " '__format__',\n",
       " '__ge__',\n",
       " '__getattribute__',\n",
       " '__gt__',\n",
       " '__hash__',\n",
       " '__init__',\n",
       " '__init_subclass__',\n",
       " '__le__',\n",
       " '__lt__',\n",
       " '__module__',\n",
       " '__ne__',\n",
       " '__new__',\n",
       " '__reduce__',\n",
       " '__reduce_ex__',\n",
       " '__repr__',\n",
       " '__setattr__',\n",
       " '__sizeof__',\n",
       " '__str__',\n",
       " '__subclasshook__',\n",
       " '__weakref__',\n",
       " 'isEmpty',\n",
       " 'items',\n",
       " 'peek',\n",
       " 'pop',\n",
       " 'push',\n",
       " 'size']"
      ]
     },
     "execution_count": 7,
     "metadata": {},
     "output_type": "execute_result"
    }
   ],
   "source": [
    "from pythonds.basic.stack import Stack\n",
    "\n",
    "S = Stack()\n",
    "dir(S)"
   ]
  },
  {
   "cell_type": "code",
   "execution_count": 5,
   "id": "50c77060",
   "metadata": {},
   "outputs": [
    {
     "name": "stdout",
     "output_type": "stream",
     "text": [
      "Collecting pythonds\n",
      "  Downloading pythonds-1.2.1-py3-none-any.whl (14 kB)\n",
      "Installing collected packages: pythonds\n",
      "Successfully installed pythonds-1.2.1\n"
     ]
    },
    {
     "name": "stderr",
     "output_type": "stream",
     "text": [
      "WARNING: Ignoring invalid distribution -atplotlib (c:\\users\\1\\anaconda3\\lib\\site-packages)\n",
      "WARNING: Ignoring invalid distribution -atplotlib (c:\\users\\1\\anaconda3\\lib\\site-packages)\n",
      "WARNING: Ignoring invalid distribution -atplotlib (c:\\users\\1\\anaconda3\\lib\\site-packages)\n",
      "WARNING: Ignoring invalid distribution -atplotlib (c:\\users\\1\\anaconda3\\lib\\site-packages)\n",
      "WARNING: Ignoring invalid distribution -atplotlib (c:\\users\\1\\anaconda3\\lib\\site-packages)\n",
      "WARNING: Ignoring invalid distribution -atplotlib (c:\\users\\1\\anaconda3\\lib\\site-packages)\n",
      "WARNING: Ignoring invalid distribution -atplotlib (c:\\users\\1\\anaconda3\\lib\\site-packages)\n",
      "\n",
      "[notice] A new release of pip available: 22.3.1 -> 23.0.1\n",
      "[notice] To update, run: python.exe -m pip install --upgrade pip\n"
     ]
    }
   ],
   "source": [
    "!pip install pythonds"
   ]
  },
  {
   "cell_type": "markdown",
   "id": "26e4a63e",
   "metadata": {},
   "source": [
    "## 연습문제"
   ]
  },
  {
   "cell_type": "code",
   "execution_count": 19,
   "id": "7c9927ba",
   "metadata": {},
   "outputs": [],
   "source": [
    "def solution(expr):\n",
    "    match = {\n",
    "        ')': '(', \n",
    "        '}': '{', \n",
    "        ']': '['\n",
    "    }\n",
    "    S = ArrayStack()\n",
    "    for c in expr:\n",
    "        if c in '({[':\n",
    "            S.push(c)\n",
    "        elif c in match:\n",
    "            if S.size() == 0:\n",
    "                return False\n",
    "            else:\n",
    "                t = S.pop()\n",
    "                if t != match[c]:  #그냥 c가 아님\n",
    "                    return False\n",
    "    return S.isEmpty()"
   ]
  },
  {
   "cell_type": "code",
   "execution_count": 20,
   "id": "ddb6872f",
   "metadata": {},
   "outputs": [
    {
     "data": {
      "text/plain": [
       "True"
      ]
     },
     "execution_count": 20,
     "metadata": {},
     "output_type": "execute_result"
    }
   ],
   "source": [
    "solution('(dlk)')"
   ]
  },
  {
   "cell_type": "markdown",
   "id": "9a57c678",
   "metadata": {},
   "source": [
    "# 12강"
   ]
  },
  {
   "cell_type": "code",
   "execution_count": 12,
   "id": "e7e34f26",
   "metadata": {},
   "outputs": [
    {
     "data": {
      "text/plain": [
       "2"
      ]
     },
     "execution_count": 12,
     "metadata": {},
     "output_type": "execute_result"
    }
   ],
   "source": [
    "#precedence\n",
    "prec = {\n",
    "    '*': 3, '/': 3,\n",
    "    '+': 2, '-': 2,\n",
    "    '(': 1\n",
    "}\n",
    "\n",
    "prec['+']"
   ]
  },
  {
   "cell_type": "markdown",
   "id": "483c7888",
   "metadata": {},
   "source": [
    "## 연습문제"
   ]
  },
  {
   "cell_type": "code",
   "execution_count": 24,
   "id": "019220fe",
   "metadata": {},
   "outputs": [],
   "source": [
    "def solution(S):\n",
    "    opStack = ArrayStack()\n",
    "    answer = ''\n",
    "    \n",
    "    match = {\n",
    "        ')': '(', \n",
    "        '}': '{', \n",
    "        ']': '['\n",
    "    }\n",
    "    \n",
    "    prec = {\n",
    "        '*': 3, '/': 3,\n",
    "        '+': 2, '-': 2,\n",
    "        '(': 1\n",
    "    }\n",
    "    \n",
    "    for c in S:\n",
    "        if c in '({[':\n",
    "            opStack.push(c)\n",
    "        elif c in match:\n",
    "            t = opStack.pop()\n",
    "            while t != match[c]:\n",
    "                answer + t\n",
    "                t = opStack.pop()\n",
    "        elif c in prec:\n",
    "            t = opStack.peek()\n",
    "            if prec[c] < prec[t]:\n",
    "                answer + t\n",
    "                opStack.pop()\n",
    "                opStack.push(c)\n",
    "            else:\n",
    "                opStack.push(c)\n",
    "        else:  #알파벳인 경우\n",
    "            answer + c\n",
    "    while not opStack.isEmpty():\n",
    "        answer + opStack.pop()\n",
    "    return answer"
   ]
  },
  {
   "cell_type": "code",
   "execution_count": 23,
   "id": "7dbe86e7",
   "metadata": {},
   "outputs": [
    {
     "data": {
      "text/plain": [
       "'3'"
      ]
     },
     "execution_count": 23,
     "metadata": {},
     "output_type": "execute_result"
    }
   ],
   "source": [
    "answer = ''\n",
    "\n",
    "answer + '3'"
   ]
  },
  {
   "cell_type": "code",
   "execution_count": 25,
   "id": "844eead1",
   "metadata": {},
   "outputs": [
    {
     "ename": "IndexError",
     "evalue": "list index out of range",
     "output_type": "error",
     "traceback": [
      "\u001b[1;31m---------------------------------------------------------------------------\u001b[0m",
      "\u001b[1;31mIndexError\u001b[0m                                Traceback (most recent call last)",
      "\u001b[1;32m~\\AppData\\Local\\Temp/ipykernel_8408/248595411.py\u001b[0m in \u001b[0;36m<module>\u001b[1;34m\u001b[0m\n\u001b[1;32m----> 1\u001b[1;33m \u001b[0msolution\u001b[0m\u001b[1;33m(\u001b[0m\u001b[1;34m'A+B'\u001b[0m\u001b[1;33m)\u001b[0m\u001b[1;33m\u001b[0m\u001b[1;33m\u001b[0m\u001b[0m\n\u001b[0m",
      "\u001b[1;32m~\\AppData\\Local\\Temp/ipykernel_8408/3393394961.py\u001b[0m in \u001b[0;36msolution\u001b[1;34m(S)\u001b[0m\n\u001b[0;32m     24\u001b[0m                 \u001b[0mt\u001b[0m \u001b[1;33m=\u001b[0m \u001b[0mopStack\u001b[0m\u001b[1;33m.\u001b[0m\u001b[0mpop\u001b[0m\u001b[1;33m(\u001b[0m\u001b[1;33m)\u001b[0m\u001b[1;33m\u001b[0m\u001b[1;33m\u001b[0m\u001b[0m\n\u001b[0;32m     25\u001b[0m         \u001b[1;32melif\u001b[0m \u001b[0mc\u001b[0m \u001b[1;32min\u001b[0m \u001b[0mprec\u001b[0m\u001b[1;33m:\u001b[0m\u001b[1;33m\u001b[0m\u001b[1;33m\u001b[0m\u001b[0m\n\u001b[1;32m---> 26\u001b[1;33m             \u001b[0mt\u001b[0m \u001b[1;33m=\u001b[0m \u001b[0mopStack\u001b[0m\u001b[1;33m.\u001b[0m\u001b[0mpeek\u001b[0m\u001b[1;33m(\u001b[0m\u001b[1;33m)\u001b[0m\u001b[1;33m\u001b[0m\u001b[1;33m\u001b[0m\u001b[0m\n\u001b[0m\u001b[0;32m     27\u001b[0m             \u001b[1;32mif\u001b[0m \u001b[0mprec\u001b[0m\u001b[1;33m[\u001b[0m\u001b[0mc\u001b[0m\u001b[1;33m]\u001b[0m \u001b[1;33m<\u001b[0m \u001b[0mprec\u001b[0m\u001b[1;33m[\u001b[0m\u001b[0mt\u001b[0m\u001b[1;33m]\u001b[0m\u001b[1;33m:\u001b[0m\u001b[1;33m\u001b[0m\u001b[1;33m\u001b[0m\u001b[0m\n\u001b[0;32m     28\u001b[0m                 \u001b[0manswer\u001b[0m \u001b[1;33m+\u001b[0m \u001b[0mt\u001b[0m\u001b[1;33m\u001b[0m\u001b[1;33m\u001b[0m\u001b[0m\n",
      "\u001b[1;32m~\\AppData\\Local\\Temp/ipykernel_8408/3614147108.py\u001b[0m in \u001b[0;36mpeek\u001b[1;34m(self)\u001b[0m\n\u001b[0;32m     16\u001b[0m \u001b[1;33m\u001b[0m\u001b[0m\n\u001b[0;32m     17\u001b[0m     \u001b[1;32mdef\u001b[0m \u001b[0mpeek\u001b[0m\u001b[1;33m(\u001b[0m\u001b[0mself\u001b[0m\u001b[1;33m)\u001b[0m\u001b[1;33m:\u001b[0m  \u001b[1;31m#스택의 꼭대기 원소 반환\u001b[0m\u001b[1;33m\u001b[0m\u001b[1;33m\u001b[0m\u001b[0m\n\u001b[1;32m---> 18\u001b[1;33m         \u001b[1;32mreturn\u001b[0m \u001b[0mself\u001b[0m\u001b[1;33m.\u001b[0m\u001b[0mdata\u001b[0m\u001b[1;33m[\u001b[0m\u001b[1;33m-\u001b[0m\u001b[1;36m1\u001b[0m\u001b[1;33m]\u001b[0m\u001b[1;33m\u001b[0m\u001b[1;33m\u001b[0m\u001b[0m\n\u001b[0m",
      "\u001b[1;31mIndexError\u001b[0m: list index out of range"
     ]
    }
   ],
   "source": [
    "solution('A+B')"
   ]
  },
  {
   "cell_type": "markdown",
   "id": "9d7676d1",
   "metadata": {},
   "source": [
    "# 13강"
   ]
  },
  {
   "cell_type": "code",
   "execution_count": 34,
   "id": "5148416d",
   "metadata": {},
   "outputs": [],
   "source": [
    "def splitTokens(exprStr):  #expression string (중위 표기된 수식)\n",
    "    tokens = []  #여기에 담을 것임\n",
    "    val = 0\n",
    "    valProcessing = False  #수를 만났을 때 12 이면 1 * 10 + 2 이런 식으로 처리하기 위함\n",
    "    for c in exprStr:\n",
    "        if c == ' ': #빈칸이면 넘어가고\n",
    "            continue\n",
    "        if c in '0123456789':  #숫자이면\n",
    "            val = val * 10 + int(c)  #지금 val에 10을 곱하고 c를 더하기 (십진수로 계산하기 위함)\n",
    "            valProcessing = True\n",
    "        else:  #숫자가 아니라면 (괄호 또는 연산자)\n",
    "            if valProcessing: #십진수를 표시하고 있었으면\n",
    "                tokens.append(val)  #tokens에 지금까지 계산한 val을 덧붙이고\n",
    "                val = 0  #val은 다시 0으로 만들어서 다음에 만난 수를 처리할 수 있도록\n",
    "            valProcessing = False  #십진수를 처리하고 있지 않았다고 표시\n",
    "            tokens.append(c)\n",
    "    if valProcessing:  #마지막으로 나온 수도 덧붙이기\n",
    "        tokens.append(val)\n",
    "    \n",
    "    return tokens\n",
    "        "
   ]
  },
  {
   "cell_type": "code",
   "execution_count": 38,
   "id": "a30cfacf",
   "metadata": {},
   "outputs": [
    {
     "data": {
      "text/plain": [
       "[3, '+', 5]"
      ]
     },
     "execution_count": 38,
     "metadata": {},
     "output_type": "execute_result"
    }
   ],
   "source": [
    "splitTokens('3+5')"
   ]
  },
  {
   "cell_type": "code",
   "execution_count": 39,
   "id": "71554376",
   "metadata": {},
   "outputs": [
    {
     "ename": "ModuleNotFoundError",
     "evalue": "No module named 'stacks'",
     "output_type": "error",
     "traceback": [
      "\u001b[1;31m---------------------------------------------------------------------------\u001b[0m",
      "\u001b[1;31mModuleNotFoundError\u001b[0m                       Traceback (most recent call last)",
      "\u001b[1;32m~\\AppData\\Local\\Temp/ipykernel_8408/1461110376.py\u001b[0m in \u001b[0;36m<module>\u001b[1;34m\u001b[0m\n\u001b[0;32m      1\u001b[0m \u001b[1;31m# 중위 표기식을 후위 표기식으로 바꾸기 (지난 연습문제)\u001b[0m\u001b[1;33m\u001b[0m\u001b[1;33m\u001b[0m\u001b[0m\n\u001b[0;32m      2\u001b[0m \u001b[1;33m\u001b[0m\u001b[0m\n\u001b[1;32m----> 3\u001b[1;33m \u001b[1;32mfrom\u001b[0m \u001b[0mstacks\u001b[0m \u001b[1;32mimport\u001b[0m \u001b[0mArrayStack\u001b[0m \u001b[1;32mas\u001b[0m \u001b[0mStack\u001b[0m\u001b[1;33m\u001b[0m\u001b[1;33m\u001b[0m\u001b[0m\n\u001b[0m\u001b[0;32m      4\u001b[0m \u001b[1;33m\u001b[0m\u001b[0m\n\u001b[0;32m      5\u001b[0m \u001b[1;32mdef\u001b[0m \u001b[0minfixToPostfix\u001b[0m\u001b[1;33m(\u001b[0m\u001b[0mtokenList\u001b[0m\u001b[1;33m)\u001b[0m\u001b[1;33m:\u001b[0m  \u001b[1;31m#list를 받도록 되어 있음  #지난 강의에서는 문자열이었음\u001b[0m\u001b[1;33m\u001b[0m\u001b[1;33m\u001b[0m\u001b[0m\n",
      "\u001b[1;31mModuleNotFoundError\u001b[0m: No module named 'stacks'"
     ]
    }
   ],
   "source": [
    "# 중위 표기식을 후위 표기식으로 바꾸기 (지난 연습문제)\n",
    "\n",
    "from stacks import ArrayStack as Stack\n",
    "\n",
    "def infixToPostfix(tokenList):  #list를 받도록 되어 있음  #지난 강의에서는 문자열이었음\n",
    "    prec = {\n",
    "        '*': 3, '/': 3,\n",
    "        '+': 2, '-': 2,\n",
    "        '(': 1\n",
    "    }\n",
    "    \n",
    "    opStack = Stack()\n",
    "    postfixList = []  #문자열이 아니라 list로\n",
    "    \n",
    "    for token in tokenList:\n",
    "        if type(token) is int:\n",
    "            pass\n",
    "        elif token == '(':\n",
    "            pass\n",
    "        elif token == ')':\n",
    "            pass\n",
    "        else:\n",
    "            pass\n",
    "        \n",
    "    while not opStack.isEmpty():\n",
    "        pass\n",
    "    \n",
    "    return postfixList"
   ]
  },
  {
   "cell_type": "code",
   "execution_count": 40,
   "id": "ff7a1141",
   "metadata": {},
   "outputs": [
    {
     "ename": "ModuleNotFoundError",
     "evalue": "No module named 'stacks'",
     "output_type": "error",
     "traceback": [
      "\u001b[1;31m---------------------------------------------------------------------------\u001b[0m",
      "\u001b[1;31mModuleNotFoundError\u001b[0m                       Traceback (most recent call last)",
      "\u001b[1;32m~\\AppData\\Local\\Temp/ipykernel_8408/1261571055.py\u001b[0m in \u001b[0;36m<module>\u001b[1;34m\u001b[0m\n\u001b[1;32m----> 1\u001b[1;33m \u001b[1;32mfrom\u001b[0m \u001b[0mstacks\u001b[0m \u001b[1;32mimport\u001b[0m \u001b[0mArrayStack\u001b[0m \u001b[1;32mas\u001b[0m \u001b[0mStack\u001b[0m\u001b[1;33m\u001b[0m\u001b[1;33m\u001b[0m\u001b[0m\n\u001b[0m\u001b[0;32m      2\u001b[0m \u001b[1;33m\u001b[0m\u001b[0m\n\u001b[0;32m      3\u001b[0m \u001b[1;32mdef\u001b[0m \u001b[0mpostfixEval\u001b[0m\u001b[1;33m(\u001b[0m\u001b[0mtokenList\u001b[0m\u001b[1;33m)\u001b[0m\u001b[1;33m:\u001b[0m\u001b[1;33m\u001b[0m\u001b[1;33m\u001b[0m\u001b[0m\n\u001b[0;32m      4\u001b[0m     \u001b[0mvalStack\u001b[0m \u001b[1;33m=\u001b[0m \u001b[0mStack\u001b[0m\u001b[1;33m(\u001b[0m\u001b[1;33m)\u001b[0m\u001b[1;33m\u001b[0m\u001b[1;33m\u001b[0m\u001b[0m\n\u001b[0;32m      5\u001b[0m \u001b[1;33m\u001b[0m\u001b[0m\n",
      "\u001b[1;31mModuleNotFoundError\u001b[0m: No module named 'stacks'"
     ]
    }
   ],
   "source": [
    "from stacks import ArrayStack as Stack\n",
    "\n",
    "def postfixEval(tokenList):\n",
    "    valStack = Stack()\n",
    "    \n",
    "    for token in tokenList:\n",
    "        if type(token) is int:  #피연산자인 경우\n",
    "            pass\n",
    "        elif token == '*':\n",
    "            pass\n",
    "        elif token == '/':\n",
    "            pass\n",
    "        elif token == '+':\n",
    "            pass\n",
    "        elif token == '-':\n",
    "            pass\n",
    "        \n",
    "    return valStack.pop()\n",
    "\n",
    "def solution(expr):\n",
    "    tokens = splitTokens(expr)  #인자로 주어진 중위 표현식을 token들의 리스트로 만듦\n",
    "    postfix = infixToPostfix(tokens)  #후위 표현식으로 표현된 수식이 postfix에 \n",
    "    val = postfixEval(postfix)  #후위 표현식으로 표현된 리스트를 계산하여 return\n",
    "    return val"
   ]
  },
  {
   "cell_type": "markdown",
   "id": "b410a592",
   "metadata": {},
   "source": [
    "## 연습문제"
   ]
  },
  {
   "cell_type": "code",
   "execution_count": null,
   "id": "4be1b15d",
   "metadata": {},
   "outputs": [],
   "source": [
    "class ArrayStack:\n",
    "def splitTokens(exprStr):\n",
    "    tokens = []\n",
    "    val = 0\n",
    "    valProcessing = False\n",
    "    for c in exprStr:\n",
    "        if c == ' ':\n",
    "            continue\n",
    "        if c in '0123456789':\n",
    "            val = val * 10 + int(c)\n",
    "            valProcessing = True\n",
    "        else:\n",
    "            if valProcessing:\n",
    "                tokens.append(val)\n",
    "                val = 0\n",
    "            valProcessing = False\n",
    "            tokens.append(c)\n",
    "    if valProcessing:\n",
    "        tokens.append(val)\n",
    "\n",
    "    return tokens\n",
    "\n",
    "\n",
    "def infixToPostfix(tokenList):\n",
    "    prec = {\n",
    "        '*': 3,\n",
    "        '/': 3,\n",
    "        '+': 2,\n",
    "        '-': 2,\n",
    "        '(': 1,\n",
    "    }\n",
    "\n",
    "    opStack = ArrayStack()\n",
    "    postfixList = []\n",
    "    \n",
    "    for token in tokenList:\n",
    "        if type(token) is int:\n",
    "            postfixList.append(token)\n",
    "        elif token == '(':\n",
    "            opStack.push(token)\n",
    "        elif token == ')':\n",
    "            while opStack.peek() != '(':\n",
    "                postfixList.append(opStack.pop())\n",
    "            opStack.pop()\n",
    "        else:\n",
    "            if opStack.isEmpty():\n",
    "                opStack.push(token)\n",
    "            else:\n",
    "                while prec[opStack.peek()] >= prec[token]:\n",
    "                    postfixList.append(opStack.pop())\n",
    "                    if opStack.isEmpty():\n",
    "                        break\n",
    "                opStack.push(token)\n",
    "\n",
    "    while not opStack.isEmpty():\n",
    "        postfixList.append(opStack.pop())\n",
    "    \n",
    "    return postfixList\n",
    "\n",
    "\n",
    "def postfixEval(tokenList):\n",
    "    \n",
    "    valStack = ArrayStack()\n",
    "    \n",
    "    for token in tokenList:\n",
    "        \n",
    "        if type(token) is int:\n",
    "            valStack.push(token)\n",
    "            \n",
    "        elif token == \"*\":\n",
    "            B = valStack.pop()\n",
    "            A = valStack.pop()\n",
    "            valStack.push(A*B)\n",
    "        \n",
    "        elif token == \"/\":\n",
    "            B = valStack.pop()\n",
    "            A = valStack.pop()\n",
    "            valStack.push(A/B)\n",
    "            \n",
    "        elif token == \"+\":\n",
    "            B = valStack.pop()\n",
    "            A = valStack.pop()\n",
    "            valStack.push(A+B)\n",
    "        \n",
    "        elif token == \"-\":\n",
    "            B = valStack.pop()\n",
    "            A = valStack.pop()\n",
    "            valStack.push(A-B)\n",
    "            \n",
    "    return valStack.pop()\n",
    "\n",
    "def solution(expr):\n",
    "    tokens = splitTokens(expr)\n",
    "    postfix = infixToPostfix(tokens)\n",
    "    val = postfixEval(postfix)\n",
    "    return val"
   ]
  }
 ],
 "metadata": {
  "kernelspec": {
   "display_name": "Python 3 (ipykernel)",
   "language": "python",
   "name": "python3"
  },
  "language_info": {
   "codemirror_mode": {
    "name": "ipython",
    "version": 3
   },
   "file_extension": ".py",
   "mimetype": "text/x-python",
   "name": "python",
   "nbconvert_exporter": "python",
   "pygments_lexer": "ipython3",
   "version": "3.9.7"
  }
 },
 "nbformat": 4,
 "nbformat_minor": 5
}
