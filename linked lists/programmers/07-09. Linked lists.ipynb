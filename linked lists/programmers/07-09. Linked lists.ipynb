{
 "cells": [
  {
   "cell_type": "markdown",
   "id": "37a681fe",
   "metadata": {},
   "source": [
    "# 7. Linked List(1)"
   ]
  },
  {
   "cell_type": "markdown",
   "id": "f8893340",
   "metadata": {},
   "source": [
    "### 자료구조 정의"
   ]
  },
  {
   "cell_type": "code",
   "execution_count": 1,
   "id": "84ed64ec",
   "metadata": {},
   "outputs": [],
   "source": [
    "class Node:\n",
    "    def __init__(self, item):\n",
    "        self.data = item  #데이터를 뜻함\n",
    "        self.next = None  #포인터를 뜻함"
   ]
  },
  {
   "cell_type": "code",
   "execution_count": 2,
   "id": "ffca1b16",
   "metadata": {},
   "outputs": [],
   "source": [
    "class LinkedList:\n",
    "    def __init__(self):\n",
    "        self.nodeCount = 0  #노드의 개수 초기화\n",
    "        self.head = None  # Head\n",
    "        self.tail = None  # Tail 모두 비어 있음"
   ]
  },
  {
   "cell_type": "markdown",
   "id": "f7b3bfb9",
   "metadata": {},
   "source": [
    "### 특정 원소 참조"
   ]
  },
  {
   "cell_type": "code",
   "execution_count": 3,
   "id": "f5e9286d",
   "metadata": {},
   "outputs": [],
   "source": [
    "# class Linked list의 메소드임\n",
    "# pos 번째에 있는 노드를 뽑아서 return\n",
    "def getAt(self, pos):\n",
    "    if pos <= 0 or pos > self.nodeCount:  \n",
    "        return None\n",
    "    i = 1\n",
    "    curr = self.head\n",
    "    while i< pos:\n",
    "        curr = curr.next\n",
    "        i += 1\n",
    "    return curr"
   ]
  },
  {
   "cell_type": "markdown",
   "id": "e0a4678e",
   "metadata": {},
   "source": [
    "## 연습문제"
   ]
  },
  {
   "cell_type": "markdown",
   "id": "60fa6642",
   "metadata": {},
   "source": [
    "아래와 같이 하면 안 됨\n",
    "- 1 -> 1, 2 -> 1, 2, 3 처럼 되기 때문\n",
    "- head에서부터 끝에 도달할 때까지 다음다음이 되게끔 코드 구현하기"
   ]
  },
  {
   "cell_type": "code",
   "execution_count": 4,
   "id": "f9738489",
   "metadata": {},
   "outputs": [],
   "source": [
    "def traverse(self):\n",
    "    answer = []\n",
    "    i = 1\n",
    "    while i <= self.nodeCount:\n",
    "        answer.append(self.getAt(i))\n",
    "    return answer"
   ]
  },
  {
   "cell_type": "markdown",
   "id": "99ae8f6f",
   "metadata": {},
   "source": [
    "## My solution"
   ]
  },
  {
   "cell_type": "code",
   "execution_count": 11,
   "id": "c5811111",
   "metadata": {},
   "outputs": [],
   "source": [
    "def traverse(self):\n",
    "    answer = []\n",
    "    if self.nodeCount == 0:\n",
    "        return answer\n",
    "    else:\n",
    "        for i in range(self):\n",
    "            answer.append(self[i])\n",
    "    return answer"
   ]
  },
  {
   "cell_type": "code",
   "execution_count": 7,
   "id": "b22c0b39",
   "metadata": {},
   "outputs": [],
   "source": []
  },
  {
   "cell_type": "markdown",
   "id": "ff05c2b7",
   "metadata": {},
   "source": [
    "# 8. Linked list (2)"
   ]
  },
  {
   "cell_type": "markdown",
   "id": "252a8f36",
   "metadata": {},
   "source": [
    "## 원소의 삽입"
   ]
  },
  {
   "cell_type": "code",
   "execution_count": 12,
   "id": "57dde6aa",
   "metadata": {},
   "outputs": [],
   "source": [
    "def insertAt(self, pos, newNode):\n",
    "    # pos 가 가리키는 위치에 (1 <= pos <= nodeCount +1)\n",
    "    # newNode 를 삽입하고\n",
    "    # 성공/실패에 따라 True/False를 리턴\n",
    "    prev = self.getAt(pos-1)  #prev 찾기\n",
    "    newNode.next = prev.next\n",
    "    prev.next = newNode\n",
    "    self.nodeCount += 1"
   ]
  },
  {
   "cell_type": "code",
   "execution_count": 13,
   "id": "583a3366",
   "metadata": {},
   "outputs": [],
   "source": [
    "def insertAt(self, pos, newNode):\n",
    "    if pos < 1 or pos > self.nodeCount +1:  # pos 가 올바른 범위의 값인가\n",
    "        return False\n",
    "    if pos ==1:   # prev는 없음\n",
    "        newNode.next = self.head\n",
    "        self.head = newNode\n",
    "    else:\n",
    "        prev = self.getAt(pos-1)\n",
    "        newNode.next = prev.next\n",
    "        prev.next = newNode\n",
    "    if pos == self.nodeCount +1:  #가장 끝인 경우\n",
    "        self.tail = newNode\n",
    "    \n",
    "    #빈 리스트라면 두 번째와 세 번째 if문을 모두 만족하므로 잘 조정됨\n",
    "    self.nodeCount += 1\n",
    "    return True"
   ]
  },
  {
   "cell_type": "code",
   "execution_count": 14,
   "id": "ff3574ed",
   "metadata": {},
   "outputs": [],
   "source": [
    "def insertAt(self, pos, newNode):\n",
    "    if pos < 1 or pos > self.nodeCount +1:  # pos 가 올바른 범위의 값인가\n",
    "        return False\n",
    "    if pos ==1:   # prev는 없음\n",
    "        newNode.next = self.head\n",
    "        self.head = newNode\n",
    "    else:\n",
    "        # 달라진 부분\n",
    "        if pos == self.nodeCount +1:   #여기서 getAt을 안 씀!! \n",
    "            prev = self.tail\n",
    "        else:\n",
    "            prev = self.getAt(pos-1)\n",
    "        newNode.next = prev.next\n",
    "        prev.next = newNode\n",
    "    if pos == self.nodeCount +1:  #가장 끝인 경우\n",
    "        self.tail = newNode\n",
    "    \n",
    "    #빈 리스트라면 두 번째와 세 번째 if문을 모두 만족하므로 잘 조정됨\n",
    "    self.nodeCount += 1\n",
    "    return True"
   ]
  },
  {
   "cell_type": "markdown",
   "id": "07c24e7d",
   "metadata": {},
   "source": [
    "### 실습"
   ]
  },
  {
   "cell_type": "code",
   "execution_count": 26,
   "id": "a4b3fabb",
   "metadata": {},
   "outputs": [],
   "source": [
    "class Node:\n",
    "\n",
    "    def __init__(self, item):\n",
    "        self.data = item\n",
    "        self.next = None\n",
    "\n",
    "\n",
    "class LinkedList:\n",
    "\n",
    "    def __init__(self):\n",
    "        self.nodeCount = 0\n",
    "        self.head = None\n",
    "        self.tail = None\n",
    "\n",
    "\n",
    "    def __repr__(self):\n",
    "        if self.nodeCount == 0:\n",
    "            return 'LinkedList: empty'  #리스트를 그냥 프린트\n",
    "\n",
    "        s = ''\n",
    "        curr = self.head\n",
    "        while curr is not None:\n",
    "            s += repr(curr.data)\n",
    "            if curr.next is not None:\n",
    "                s += ' -> '\n",
    "            curr = curr.next\n",
    "        return s\n",
    "\n",
    "\n",
    "    def getAt(self, pos):\n",
    "        if pos < 1 or pos > self.nodeCount:\n",
    "            return None\n",
    "\n",
    "        i = 1\n",
    "        curr = self.head\n",
    "        while i < pos:\n",
    "            curr = curr.next\n",
    "            i += 1\n",
    "\n",
    "        return curr\n",
    "\n",
    "\n",
    "    def insertAt(self, pos, newNode):\n",
    "        if pos < 1 or pos > self.nodeCount + 1:\n",
    "            return False\n",
    "\n",
    "        if pos == 1:\n",
    "            newNode.next = self.head\n",
    "            self.head = newNode\n",
    "\n",
    "        else:\n",
    "            if pos == self.nodeCount + 1:\n",
    "                prev = self.tail\n",
    "            else:\n",
    "                prev = self.getAt(pos - 1)\n",
    "            newNode.next = prev.next\n",
    "            prev.next = newNode\n",
    "\n",
    "        if pos == self.nodeCount + 1:\n",
    "            self.tail = newNode\n",
    "\n",
    "        self.nodeCount += 1\n",
    "        return True\n",
    "\n",
    "\n",
    "    def getLength(self):\n",
    "        return self.nodeCount\n",
    "\n",
    "\n",
    "    def traverse(self):\n",
    "        result = []\n",
    "        curr = self.head\n",
    "        while curr is not None:\n",
    "            result.append(curr.data)\n",
    "            curr = curr.next\n",
    "        return result\n",
    "\n",
    "\n",
    "    def concat(self, L):\n",
    "        self.tail.next = L.head\n",
    "        if L.tail:\n",
    "            self.tail = L.tail\n",
    "        self.nodeCount += L.nodeCount\n"
   ]
  },
  {
   "cell_type": "code",
   "execution_count": 27,
   "id": "f67c74d8",
   "metadata": {},
   "outputs": [],
   "source": [
    "a = Node(67)\n",
    "b = Node(34)\n",
    "c = Node(28)\n",
    "L = LinkedList()"
   ]
  },
  {
   "cell_type": "code",
   "execution_count": 18,
   "id": "a82c603a",
   "metadata": {},
   "outputs": [
    {
     "data": {
      "text/plain": [
       "True"
      ]
     },
     "execution_count": 18,
     "metadata": {},
     "output_type": "execute_result"
    }
   ],
   "source": [
    "L.insertAt(1, a)"
   ]
  },
  {
   "cell_type": "code",
   "execution_count": 19,
   "id": "65fe3184",
   "metadata": {},
   "outputs": [
    {
     "data": {
      "text/plain": [
       "67 -> 34"
      ]
     },
     "execution_count": 19,
     "metadata": {},
     "output_type": "execute_result"
    }
   ],
   "source": [
    "L.insertAt(2, b)\n",
    "L"
   ]
  },
  {
   "cell_type": "code",
   "execution_count": 20,
   "id": "ee882b7b",
   "metadata": {},
   "outputs": [
    {
     "data": {
      "text/plain": [
       "28 -> 67 -> 34"
      ]
     },
     "execution_count": 20,
     "metadata": {},
     "output_type": "execute_result"
    }
   ],
   "source": [
    "L.insertAt(1, c)\n",
    "L"
   ]
  },
  {
   "cell_type": "code",
   "execution_count": 40,
   "id": "13236072",
   "metadata": {},
   "outputs": [
    {
     "data": {
      "text/plain": [
       "True"
      ]
     },
     "execution_count": 40,
     "metadata": {},
     "output_type": "execute_result"
    }
   ],
   "source": [
    "L.insertAt()"
   ]
  },
  {
   "cell_type": "code",
   "execution_count": null,
   "id": "d8a8bdde",
   "metadata": {},
   "outputs": [],
   "source": []
  },
  {
   "cell_type": "markdown",
   "id": "8210e08d",
   "metadata": {},
   "source": [
    "## 원소의 삭제"
   ]
  },
  {
   "cell_type": "markdown",
   "id": "86334190",
   "metadata": {},
   "source": [
    "연습문제"
   ]
  },
  {
   "cell_type": "code",
   "execution_count": 41,
   "id": "3f82dd32",
   "metadata": {},
   "outputs": [],
   "source": [
    "# My Solution\n",
    "def popAt(self, pos):\n",
    "    if pos < 1 or pos > self.nodeCount:\n",
    "        raise IndexError\n",
    "    \n",
    "    elif self.nodeCount == 1:  #유일한 노드 삭제할 때\n",
    "        curr = pos\n",
    "        self.head = None\n",
    "        self.tail = None\n",
    "    \n",
    "    elif pos == 1:   #제일 앞의 노드를 삭제할 떄\n",
    "        curr = pos\n",
    "        self.head = pos.next\n",
    "    \n",
    "    elif pos == self.nodeCount:  #제일 뒤의 노드를 삭제할 때\n",
    "        curr = pos\n",
    "        self.tail = self.getAt(pos-1)\n",
    "    \n",
    "    else:   #일반적인 경우\n",
    "        curr = pos\n",
    "        prev = getAt(pos-1)\n",
    "        prev.next = pos.next\n",
    "        \n",
    "    self.nodeCount -= 1\n",
    "    return curr"
   ]
  },
  {
   "cell_type": "code",
   "execution_count": null,
   "id": "5ae55b08",
   "metadata": {},
   "outputs": [],
   "source": [
    "#Other's solution\n",
    "def popAt(self, pos):\n",
    "    if pos <1 or pos > self.nodeCount:\n",
    "            raise IndexError\n",
    "            \n",
    "        elif self.nodeCount == 1:\n",
    "            curr = self.head\n",
    "            self.head = None\n",
    "            self.tail = None\n",
    "            \n",
    "        elif pos == 1:\n",
    "            curr = self.head\n",
    "            self.head = curr.next\n",
    "            \n",
    "        elif pos == self.nodeCount:\n",
    "            prev = self.getAt(pos - 1)\n",
    "            curr = self.tail\n",
    "            prev.next = None\n",
    "            self.tail = prev \n",
    "            \n",
    "        else:\n",
    "            prev = self.getAt(pos - 1)\n",
    "            curr = prev.next\n",
    "            prev.next = curr.next   # 이 코드 추가해야 함\n",
    "            \n",
    "        self.nodeCount -= 1\n",
    "        return curr.data"
   ]
  },
  {
   "cell_type": "markdown",
   "id": "a16e1a72",
   "metadata": {},
   "source": [
    "## 두 리스트의 연결"
   ]
  },
  {
   "cell_type": "code",
   "execution_count": null,
   "id": "aa7fa039",
   "metadata": {},
   "outputs": [],
   "source": [
    "def concat(self, L):\n",
    "    self.tail.next = L.head\n",
    "    if L.tail:\n",
    "        self.tail = L.tail\n",
    "    self.nodeCount += L.nodeCount"
   ]
  },
  {
   "cell_type": "markdown",
   "id": "98720529",
   "metadata": {},
   "source": [
    "# 9. Linked List(3)"
   ]
  },
  {
   "cell_type": "code",
   "execution_count": 42,
   "id": "cba2da3d",
   "metadata": {},
   "outputs": [],
   "source": [
    "class LinkedList:\n",
    "    def __init__(self):\n",
    "        self.nodeCount = 0\n",
    "        self.head = Node(None)  #dummy node\n",
    "        self.tail = None\n",
    "        self.head.next = self.tail"
   ]
  },
  {
   "cell_type": "code",
   "execution_count": 43,
   "id": "981f3f0d",
   "metadata": {},
   "outputs": [],
   "source": [
    "#리스트 순회\n",
    "def traverse(self):\n",
    "    result = []\n",
    "    curr = self.head\n",
    "    while curr.next:   #다음 노드가 있다면\n",
    "        curr = curr.next\n",
    "        result.append(curr.data)\n",
    "    return result"
   ]
  },
  {
   "cell_type": "code",
   "execution_count": 44,
   "id": "5048ab16",
   "metadata": {},
   "outputs": [],
   "source": [
    "#k번째 원소 얻어내기\n",
    "def getAt(self, pos):\n",
    "    if pos < 0 or pos > self.nodeCount:   #pos < 1 보다 간편, 일반화하기 쉬움\n",
    "        return None\n",
    "    i = 0  #1이 아니라 0부터 시작!\n",
    "    curr = self.head\n",
    "    while i < pos:\n",
    "        curr = curr.next\n",
    "        i += 1\n",
    "    return curr"
   ]
  },
  {
   "cell_type": "code",
   "execution_count": 45,
   "id": "ca8edcdb",
   "metadata": {},
   "outputs": [],
   "source": [
    "#원소의 삽입\n",
    "def insertAfter(self, prev, newNode):\n",
    "    newNode.next = prev.next\n",
    "    if prev.next is None:  #tail의 다음에 삽입할 때 tail 조정하기\n",
    "        self.tail = newNode\n",
    "    prev.next = newNode\n",
    "    self.nodeCount += 1\n",
    "    return True"
   ]
  },
  {
   "cell_type": "code",
   "execution_count": 46,
   "id": "e1a99326",
   "metadata": {},
   "outputs": [],
   "source": [
    "#insertAt()의 구현\n",
    "def insertAt(self, pos, newNode):\n",
    "    if pos < 1 or pos > self.nodeCount +1:  #범위가 맞지 않은 경우\n",
    "        return False\n",
    "    if pos != 1 and pos == self.nodeCount +1:  #tail 뒤에 삽입하는 경우\n",
    "        #pos == 1 and pos ==self.nodeCount+1 인 경우: 빈 리스트라서 이 경우를 빼주려고 pos != 1 추가\n",
    "        prev = self.tail\n",
    "    else:\n",
    "        prev = self.getAt(pos-1)\n",
    "    return self.insertAfter(prev, newNode)"
   ]
  },
  {
   "cell_type": "code",
   "execution_count": 47,
   "id": "89ae43e8",
   "metadata": {},
   "outputs": [],
   "source": [
    "# 두 리스트의 연결\n",
    "def concat(self, L):\n",
    "    self.tail.next = L.head.next\n",
    "    if L.tail:\n",
    "        self.tail = L.tail\n",
    "    self.nodeCount += L.nodeCount"
   ]
  },
  {
   "cell_type": "markdown",
   "id": "33b37c11",
   "metadata": {},
   "source": [
    "## 연습문제"
   ]
  },
  {
   "cell_type": "markdown",
   "id": "37ba6a02",
   "metadata": {},
   "source": [
    "### My solution"
   ]
  },
  {
   "cell_type": "code",
   "execution_count": null,
   "id": "8dc2945a",
   "metadata": {},
   "outputs": [],
   "source": [
    "def popAfter(self, prev):\n",
    "    if prev < 0 or prev.next is None:\n",
    "        raise IndexError\n",
    "        \n",
    "    if prev.next:\n",
    "        curr = prev.next\n",
    "        self.tail = prev\n",
    "        self.nodeCount -= 1\n",
    "    return curr"
   ]
  },
  {
   "cell_type": "code",
   "execution_count": null,
   "id": "faf05b3b",
   "metadata": {},
   "outputs": [],
   "source": [
    "def popAt(self, pos):\n",
    "    if pos < 1 or pos > self.nodeCount:\n",
    "        raise IndexError\n",
    "    \n",
    "    else:\n",
    "        prev = self.getAt(pos-1)\n",
    "    return popAfter(prev)"
   ]
  }
 ],
 "metadata": {
  "kernelspec": {
   "display_name": "Python 3 (ipykernel)",
   "language": "python",
   "name": "python3"
  },
  "language_info": {
   "codemirror_mode": {
    "name": "ipython",
    "version": 3
   },
   "file_extension": ".py",
   "mimetype": "text/x-python",
   "name": "python",
   "nbconvert_exporter": "python",
   "pygments_lexer": "ipython3",
   "version": "3.9.7"
  }
 },
 "nbformat": 4,
 "nbformat_minor": 5
}
