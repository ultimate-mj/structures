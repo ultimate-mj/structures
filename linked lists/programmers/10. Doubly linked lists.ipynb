{
 "cells": [
  {
   "cell_type": "code",
   "execution_count": 1,
   "id": "ed952e45",
   "metadata": {},
   "outputs": [],
   "source": [
    "class Node:\n",
    "    def __init__(self, item):\n",
    "        self.data = item\n",
    "        self.prev = None  #이게 추가됨\n",
    "        self.next = None"
   ]
  },
  {
   "cell_type": "code",
   "execution_count": 2,
   "id": "1eec626b",
   "metadata": {},
   "outputs": [],
   "source": [
    "#dummy 추가\n",
    "class DoublyLinkedList:\n",
    "    def __init__(self, item):\n",
    "        self.nodeCount = 0\n",
    "        self.head = Node(None)  #추가\n",
    "        self.tail = Node(None)  #추가\n",
    "        self.head.prev = None\n",
    "        self.head.next = self.tail  #추가\n",
    "        self.tail.prev = self.head  #추가\n",
    "        self.tail.next = None"
   ]
  },
  {
   "cell_type": "markdown",
   "id": "7cff924d",
   "metadata": {},
   "source": [
    "### 리스트 순회"
   ]
  },
  {
   "cell_type": "code",
   "execution_count": 3,
   "id": "2730194d",
   "metadata": {},
   "outputs": [],
   "source": [
    "def traverse(self):\n",
    "    result = []\n",
    "    curr = self.head\n",
    "    while curr.next.next:   #여기가 다름 #tail에도 dummy node가 있기 때문\n",
    "        curr = curr.next\n",
    "        result.append(curr.data)\n",
    "    return result"
   ]
  },
  {
   "cell_type": "code",
   "execution_count": 1,
   "id": "a63dd208",
   "metadata": {},
   "outputs": [],
   "source": [
    "def reverse(self):\n",
    "    result = []\n",
    "    curr = self.tail\n",
    "    while curr.prev.prev:   #head에 dummy node가 있기 때문\n",
    "        curr = curr.prev    #durlrk ekfma\n",
    "        result.append(curr.data)\n",
    "    return result"
   ]
  },
  {
   "cell_type": "markdown",
   "id": "2a714217",
   "metadata": {},
   "source": [
    "## 원소의 삽입"
   ]
  },
  {
   "cell_type": "code",
   "execution_count": 2,
   "id": "3b40c102",
   "metadata": {},
   "outputs": [],
   "source": [
    "def insertAfter(self, prev, newNode):\n",
    "    next = prev.next\n",
    "    newNode.prev = prev\n",
    "    newNode.next = next\n",
    "    prev.next = newNode\n",
    "    next.prev = newNode\n",
    "    self.nodeCount += 1\n",
    "    return True"
   ]
  },
  {
   "cell_type": "markdown",
   "id": "96948823",
   "metadata": {},
   "source": [
    "## 특정원소 얻어내기"
   ]
  },
  {
   "cell_type": "code",
   "execution_count": 3,
   "id": "9246abfc",
   "metadata": {},
   "outputs": [],
   "source": [
    "#지난 번에 dummy가 있었던 일방향과 완전히 동일!!\n",
    "def getAt(self, pos):\n",
    "    if pos <0 or pos > self.nodeCount:\n",
    "        return None\n",
    "    i = 0\n",
    "    curr = self.head\n",
    "    while i < pos:\n",
    "        curr = curr.next\n",
    "        i += 1\n",
    "    return curr"
   ]
  },
  {
   "cell_type": "code",
   "execution_count": null,
   "id": "b4522b4f",
   "metadata": {},
   "outputs": [],
   "source": [
    "#getAt을 활용한 insertAt\n",
    "def insertAt(self, pos, newNode):\n",
    "    if pos < 1 or pos > self.nodeCount + 1:\n",
    "        return False\n",
    "    prev = self.getAt(pos-1)\n",
    "    return self.insertAfter(prev, newNode)"
   ]
  },
  {
   "cell_type": "markdown",
   "id": "8beedcfd",
   "metadata": {},
   "source": [
    "리스트 마지막에 원소 삽입하면??\n",
    "\n",
    "처음부터 찾아가는 것이 비효율적임. getAt을 수정해보자\n",
    "\n",
    "그러나 여전히 선형시간의 알고리즘임"
   ]
  },
  {
   "cell_type": "code",
   "execution_count": 4,
   "id": "c1eb6e2b",
   "metadata": {},
   "outputs": [],
   "source": [
    "def getAt(self, pos):\n",
    "    if pos < 0 or pos > self.nodeCount:\n",
    "        return None\n",
    "    \n",
    "    if pos > self.nodeCount//2:  #절반보다 뒤쪽이면 tail에서 찾아오도록\n",
    "        i = 0\n",
    "        curr = self.tail\n",
    "        while i < self.nodeCount - pos + 1:\n",
    "            curr = curr.prev\n",
    "            i += 1\n",
    "    \n",
    "    else:\n",
    "        i = 0\n",
    "        curr = self.head\n",
    "        while i < pos:\n",
    "            curr = curr.next\n",
    "            i += 1\n",
    "        return curr"
   ]
  },
  {
   "cell_type": "markdown",
   "id": "979ae84a",
   "metadata": {},
   "source": [
    "# 연습문제 - 양방향 연결 리스트 메소드 구현"
   ]
  },
  {
   "cell_type": "markdown",
   "id": "1d68270e",
   "metadata": {},
   "source": [
    "코딩이 편하게 되는 장점"
   ]
  },
  {
   "cell_type": "code",
   "execution_count": 9,
   "id": "23367412",
   "metadata": {},
   "outputs": [],
   "source": [
    "#insertAfter와 대칭이면 됨\n",
    "def insertBefore(self, next, newNode):\n",
    "    prev = next.prev  #이전 노드 지정\n",
    "    newNode.prev = prev #newNode 링크 조정\n",
    "    newNode.next = next\n",
    "    prev.next = newNode #기존 링크 끊어주기\n",
    "    next.prev = newNode\n",
    "    self.nodeCount += 1\n",
    "    return True"
   ]
  },
  {
   "cell_type": "code",
   "execution_count": 10,
   "id": "14e17571",
   "metadata": {},
   "outputs": [],
   "source": [
    "#마지막 노드를 뽑아내기가 더 쉬움\n",
    "def popAfter(self, prev):\n",
    "    if prev.next.next:\n",
    "        curr = prev.next\n",
    "        next = curr.next\n",
    "        prev.next = curr.next\n",
    "        next.prev = prev\n",
    "        self.nodeCount -= 1\n",
    "    return curr.data"
   ]
  },
  {
   "cell_type": "code",
   "execution_count": 11,
   "id": "b7bccdd5",
   "metadata": {},
   "outputs": [],
   "source": [
    "def popBefore(self, next):\n",
    "    if next.prev.prev:\n",
    "        curr = next.prev\n",
    "        prev = curr.prev\n",
    "        prev.next = next\n",
    "        next.prev = prev\n",
    "        self.nodeCount -= 1\n",
    "    return curr.data\n",
    "    "
   ]
  },
  {
   "cell_type": "code",
   "execution_count": 12,
   "id": "3c6e2d7d",
   "metadata": {},
   "outputs": [],
   "source": [
    "def popAt(self, pos):\n",
    "    if pos < 0 or pos > node.Count + 1:\n",
    "        raise IndexError\n",
    "    else:\n",
    "        next = self.getAt(pos+1)\n",
    "        self.popBefore(next)"
   ]
  },
  {
   "cell_type": "code",
   "execution_count": null,
   "id": "5dd8adcc",
   "metadata": {},
   "outputs": [],
   "source": [
    "#링크 조절 개수가 많지만 쉬움\n",
    "#if로 별개로 따져야 하는 경우가 줄음\n",
    "def concat(self, L):\n",
    "    if self.nodeCount == 0:  #L1이 빈 리스트인 경우\n",
    "        self.head = L.head\n",
    "    if L.nodeCount == 0 and self.nodeCount == 0:\n",
    "        return None\n",
    "    else:\n",
    "        self.tail.prev.next = L.head.next\n",
    "        L.head.next.prev = self.tail.prev\n",
    "        self.tail = L.tail\n",
    "    self.nodeCount += L.nodeCount"
   ]
  }
 ],
 "metadata": {
  "kernelspec": {
   "display_name": "Python 3 (ipykernel)",
   "language": "python",
   "name": "python3"
  },
  "language_info": {
   "codemirror_mode": {
    "name": "ipython",
    "version": 3
   },
   "file_extension": ".py",
   "mimetype": "text/x-python",
   "name": "python",
   "nbconvert_exporter": "python",
   "pygments_lexer": "ipython3",
   "version": "3.9.7"
  }
 },
 "nbformat": 4,
 "nbformat_minor": 5
}
