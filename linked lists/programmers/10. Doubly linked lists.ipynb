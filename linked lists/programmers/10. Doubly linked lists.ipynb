{
 "cells": [
  {
   "cell_type": "code",
   "execution_count": 1,
   "id": "ed952e45",
   "metadata": {},
   "outputs": [],
   "source": [
    "class Node:\n",
    "    def __init__(self, item):\n",
    "        self.data = item\n",
    "        self.prev = None  #이게 추가됨\n",
    "        self.next = None"
   ]
  },
  {
   "cell_type": "code",
   "execution_count": 2,
   "id": "1eec626b",
   "metadata": {},
   "outputs": [],
   "source": [
    "#dummy 추가\n",
    "class DoublyLinkedList:\n",
    "    def __init__(self, item):\n",
    "        self.nodeCount = 0\n",
    "        self.head = Node(None)  #추가\n",
    "        self.tail = Node(None)  #추가\n",
    "        self.head.prev = None\n",
    "        self.head.next = self.tail  #추가\n",
    "        self.tail.prev = self.head  #추가\n",
    "        self.tail.next = None"
   ]
  },
  {
   "cell_type": "markdown",
   "id": "7cff924d",
   "metadata": {},
   "source": [
    "### 리스트 순회"
   ]
  },
  {
   "cell_type": "code",
   "execution_count": 3,
   "id": "2730194d",
   "metadata": {},
   "outputs": [],
   "source": [
    "def traverse(self):\n",
    "    result = []\n",
    "    curr = self.head\n",
    "    while curr.next.next:   #여기가 다름 #tail에도 dummy node가 있기 때문\n",
    "        curr = curr.next\n",
    "        result.append(curr.data)\n",
    "    return result"
   ]
  },
  {
   "cell_type": "code",
   "execution_count": null,
   "id": "a63dd208",
   "metadata": {},
   "outputs": [],
   "source": [
    "def reverse(self):\n",
    "    result = []\n",
    "    curr = self.tail\n",
    "    while curr.prev.prev:   #head에 dummy node가 있기 때문\n",
    "        curr = curr.prev    #durlrk ekfma\n",
    "        result.append(curr.data)\n",
    "    return result"
   ]
  }
 ],
 "metadata": {
  "kernelspec": {
   "display_name": "Python 3 (ipykernel)",
   "language": "python",
   "name": "python3"
  },
  "language_info": {
   "codemirror_mode": {
    "name": "ipython",
    "version": 3
   },
   "file_extension": ".py",
   "mimetype": "text/x-python",
   "name": "python",
   "nbconvert_exporter": "python",
   "pygments_lexer": "ipython3",
   "version": "3.9.7"
  }
 },
 "nbformat": 4,
 "nbformat_minor": 5
}
