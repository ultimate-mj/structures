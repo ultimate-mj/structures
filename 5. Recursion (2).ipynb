{
 "cells": [
  {
   "cell_type": "markdown",
   "id": "e2f6adbd",
   "metadata": {},
   "source": [
    "## Example 1. 조합의 수 계산"
   ]
  },
  {
   "cell_type": "code",
   "execution_count": 1,
   "id": "595d5c9f",
   "metadata": {},
   "outputs": [],
   "source": [
    "# 1. 내장 함수 사용\n",
    "from math import factorial as f\n",
    "def combi(n, m):\n",
    "  return f(n) / (f(m)*f(n-m))"
   ]
  },
  {
   "cell_type": "code",
   "execution_count": 2,
   "id": "7665b3e1",
   "metadata": {},
   "outputs": [],
   "source": [
    "# 2. recursive version\n",
    "def combi(n, m):\n",
    "    if n==m:\n",
    "        return 1\n",
    "    elif m==0:\n",
    "        return 1\n",
    "    else:\n",
    "        return combi(n-1, m) + combi(n-1, m-1)"
   ]
  },
  {
   "cell_type": "code",
   "execution_count": 3,
   "id": "09facbfd",
   "metadata": {},
   "outputs": [],
   "source": [
    "# 피보나치 수열\n",
    "def fibo(n):\n",
    "    if n<=1:\n",
    "        return n\n",
    "    return fibo(n-1) + fibo(n-2)"
   ]
  },
  {
   "cell_type": "code",
   "execution_count": 7,
   "id": "08a95e3c",
   "metadata": {},
   "outputs": [
    {
     "name": "stdout",
     "output_type": "stream",
     "text": [
      "Enter a number: 35\n",
      "Iterative version: 9227465 (0.000)\n"
     ]
    },
    {
     "ename": "TypeError",
     "evalue": "unsupported operand type(s) for -: 'builtin_function_or_method' and 'float'",
     "output_type": "error",
     "traceback": [
      "\u001b[1;31m---------------------------------------------------------------------------\u001b[0m",
      "\u001b[1;31mTypeError\u001b[0m                                 Traceback (most recent call last)",
      "\u001b[1;32m~\\AppData\\Local\\Temp/ipykernel_1784/865882626.py\u001b[0m in \u001b[0;36m<module>\u001b[1;34m\u001b[0m\n\u001b[0;32m     32\u001b[0m     \u001b[0mts\u001b[0m \u001b[1;33m=\u001b[0m \u001b[0mtime\u001b[0m\u001b[1;33m.\u001b[0m\u001b[0mtime\u001b[0m\u001b[1;33m(\u001b[0m\u001b[1;33m)\u001b[0m\u001b[1;33m\u001b[0m\u001b[1;33m\u001b[0m\u001b[0m\n\u001b[0;32m     33\u001b[0m     \u001b[0mfibo\u001b[0m \u001b[1;33m=\u001b[0m \u001b[0mrec\u001b[0m\u001b[1;33m(\u001b[0m\u001b[0mnbr\u001b[0m\u001b[1;33m)\u001b[0m\u001b[1;33m\u001b[0m\u001b[1;33m\u001b[0m\u001b[0m\n\u001b[1;32m---> 34\u001b[1;33m     \u001b[0mts\u001b[0m \u001b[1;33m=\u001b[0m \u001b[0mtime\u001b[0m\u001b[1;33m.\u001b[0m\u001b[0mtime\u001b[0m \u001b[1;33m-\u001b[0m \u001b[0mts\u001b[0m\u001b[1;33m\u001b[0m\u001b[1;33m\u001b[0m\u001b[0m\n\u001b[0m\u001b[0;32m     35\u001b[0m     \u001b[0mprint\u001b[0m\u001b[1;33m(\u001b[0m\u001b[1;34m\"Recursive version: %d (%.3f)\"\u001b[0m \u001b[1;33m%\u001b[0m\u001b[1;33m(\u001b[0m\u001b[0mfibo\u001b[0m\u001b[1;33m,\u001b[0m \u001b[0mts\u001b[0m\u001b[1;33m)\u001b[0m\u001b[1;33m)\u001b[0m\u001b[1;33m\u001b[0m\u001b[1;33m\u001b[0m\u001b[0m\n",
      "\u001b[1;31mTypeError\u001b[0m: unsupported operand type(s) for -: 'builtin_function_or_method' and 'float'"
     ]
    }
   ],
   "source": [
    "#효율성 계산\n",
    "import time\n",
    "\n",
    "def rec(n):\n",
    "    if n<=1:\n",
    "        return n\n",
    "    else:\n",
    "        return rec(n-1) + rec(n-2)\n",
    "\n",
    "def iter(n):\n",
    "    if n<=1:\n",
    "        return n\n",
    "    else:\n",
    "        i=2\n",
    "        t0=0\n",
    "        t1=1\n",
    "        while i<= n:\n",
    "            t0, t1 = t1, t0+t1\n",
    "            i+=1\n",
    "        return t1\n",
    "\n",
    "#nbr 번째의 피보나치 수열을 구하고 각각 얼마나 걸리는지\n",
    "while True:\n",
    "    nbr = int(input(\"Enter a number: \"))\n",
    "    if nbr == -1:\n",
    "        break\n",
    "\n",
    "    ts = time.time()\n",
    "    fibo = iter(nbr)\n",
    "    ts = time.time() - ts\n",
    "    print(\"Iterative version: %d (%.3f)\" % (fibo, ts))\n",
    "    ts = time.time()\n",
    "    fibo = rec(nbr)\n",
    "    ts = time.time - ts\n",
    "    print(\"Recursive version: %d (%.3f)\" %(fibo, ts))"
   ]
  },
  {
   "cell_type": "markdown",
   "id": "1bdf7b91",
   "metadata": {},
   "source": [
    "## 연습문제"
   ]
  },
  {
   "cell_type": "code",
   "execution_count": 8,
   "id": "e359a387",
   "metadata": {},
   "outputs": [],
   "source": [
    "#다음의 빈칸을 채우기\n",
    "def binsearch(L, x, lower, upper):\n",
    "    if _________:\n",
    "        return -1\n",
    "    mid = (lower + upper) // 2\n",
    "    if x==L[mid]:\n",
    "        return mid\n",
    "    elif x < L[mid]:\n",
    "        return __________\n",
    "    else:\n",
    "        return __________"
   ]
  },
  {
   "cell_type": "code",
   "execution_count": 9,
   "id": "bd4a6b8a",
   "metadata": {},
   "outputs": [],
   "source": [
    "def binsearch(L, x, lower, upper):\n",
    "    if lower > upper:\n",
    "        return -1\n",
    "    mid = (lower + upper) // 2\n",
    "    if x == L[mid]:\n",
    "        return mid\n",
    "    elif x < L[mid]:\n",
    "        return binsearch(L, x, lower, L[mid]-1)\n",
    "    else:\n",
    "        return binsearch(L, x, L[lower]+1, upper)"
   ]
  },
  {
   "cell_type": "code",
   "execution_count": null,
   "id": "d728edaf",
   "metadata": {},
   "outputs": [],
   "source": [
    "#other's\n",
    "def solution(L, x, l, u):\n",
    "    if l > u:\n",
    "        return -1\n",
    "    mid = (l + u) // 2\n",
    "    if x == L[mid]:\n",
    "        return mid\n",
    "    elif x < L[mid]:\n",
    "        return solution(L, x, l, mid-1)\n",
    "    else:\n",
    "        return solution(L, x, mid+1, u)"
   ]
  }
 ],
 "metadata": {
  "kernelspec": {
   "display_name": "Python 3 (ipykernel)",
   "language": "python",
   "name": "python3"
  },
  "language_info": {
   "codemirror_mode": {
    "name": "ipython",
    "version": 3
   },
   "file_extension": ".py",
   "mimetype": "text/x-python",
   "name": "python",
   "nbconvert_exporter": "python",
   "pygments_lexer": "ipython3",
   "version": "3.9.7"
  }
 },
 "nbformat": 4,
 "nbformat_minor": 5
}
