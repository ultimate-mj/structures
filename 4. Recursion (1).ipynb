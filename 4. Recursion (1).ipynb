{
 "cells": [
  {
   "cell_type": "markdown",
   "id": "61eeae7a",
   "metadata": {},
   "source": [
    "### 자연수의 합"
   ]
  },
  {
   "cell_type": "code",
   "execution_count": 2,
   "id": "cab72d5e",
   "metadata": {},
   "outputs": [],
   "source": [
    "#잘못된 코드: n-1를 무한으로 해서 끝나지 않음\n",
    "def sum(n):\n",
    "    return n + sum(n-1)"
   ]
  },
  {
   "cell_type": "code",
   "execution_count": 1,
   "id": "78aabe06",
   "metadata": {},
   "outputs": [],
   "source": [
    "#(Recursive version)\n",
    "#n에 따라 함수 호출 횟수 증가\n",
    "#n에 비례하는 복잡도\n",
    "#O(n)\n",
    "#효율성에서 떨어짐\n",
    "def sum(n):\n",
    "    if n<= 1:\n",
    "        return n\n",
    "    else:\n",
    "        return n + sum(n-1)"
   ]
  },
  {
   "cell_type": "code",
   "execution_count": 2,
   "id": "c1b3be1b",
   "metadata": {},
   "outputs": [
    {
     "name": "stdout",
     "output_type": "stream",
     "text": [
      "Number: 3\n",
      "6\n"
     ]
    }
   ],
   "source": [
    "a = int(input(\"Number: \"))\n",
    "print(sum(a))"
   ]
  },
  {
   "cell_type": "markdown",
   "id": "7abbf64e",
   "metadata": {},
   "source": [
    "재귀함수의 종결 조건이 매우 중요하다!!!"
   ]
  },
  {
   "cell_type": "code",
   "execution_count": 3,
   "id": "dfa8d6e5",
   "metadata": {},
   "outputs": [
    {
     "ename": "SyntaxError",
     "evalue": "invalid syntax (Temp/ipykernel_14484/2250915218.py, line 2)",
     "output_type": "error",
     "traceback": [
      "\u001b[1;36m  File \u001b[1;32m\"C:\\Users\\1\\AppData\\Local\\Temp/ipykernel_14484/2250915218.py\"\u001b[1;36m, line \u001b[1;32m2\u001b[0m\n\u001b[1;33m    if n...:  #n의 특정 조건을 만족할 때 어떻게 하고\u001b[0m\n\u001b[1;37m        ^\u001b[0m\n\u001b[1;31mSyntaxError\u001b[0m\u001b[1;31m:\u001b[0m invalid syntax\n"
     ]
    }
   ],
   "source": [
    "def sum(n):\n",
    "    if n...:  #n의 특정 조건을 만족할 때 어떻게 하고\n",
    "        ...\n",
    "    else:    # 그렇지 않을 때 재귀호출\n",
    "        ...\n",
    "        sum(...)\n"
   ]
  },
  {
   "cell_type": "code",
   "execution_count": 5,
   "id": "a090793f",
   "metadata": {},
   "outputs": [],
   "source": [
    "#반복문/순환문을 이용할 경우 (Iterative version)\n",
    "def sum_2(n):\n",
    "    s = 0\n",
    "    while n>=0:\n",
    "        s += n\n",
    "        n -= 1\n",
    "    return s"
   ]
  },
  {
   "cell_type": "code",
   "execution_count": 6,
   "id": "608a64e5",
   "metadata": {},
   "outputs": [
    {
     "data": {
      "text/plain": [
       "6"
      ]
     },
     "execution_count": 6,
     "metadata": {},
     "output_type": "execute_result"
    }
   ],
   "source": [
    "sum(3)"
   ]
  },
  {
   "cell_type": "code",
   "execution_count": 7,
   "id": "1881153f",
   "metadata": {},
   "outputs": [
    {
     "data": {
      "text/plain": [
       "6"
      ]
     },
     "execution_count": 7,
     "metadata": {},
     "output_type": "execute_result"
    }
   ],
   "source": [
    "sum_2(3)"
   ]
  },
  {
   "cell_type": "code",
   "execution_count": 8,
   "id": "a2488cc0",
   "metadata": {},
   "outputs": [],
   "source": [
    "#가장 효율적인 알고리즘?\n",
    "#O(1) 의 복잡도\n",
    "def sum_3(n):\n",
    "    return n*(n+1) // 2"
   ]
  },
  {
   "cell_type": "markdown",
   "id": "40ebd1ea",
   "metadata": {},
   "source": [
    "## Example 2"
   ]
  },
  {
   "cell_type": "code",
   "execution_count": 9,
   "id": "37679588",
   "metadata": {},
   "outputs": [],
   "source": [
    "def what(n):\n",
    "    if n<= 1:\n",
    "        return 1\n",
    "    else: return n*what(n-1)\n",
    "# n! 를 계산하는 재귀함수"
   ]
  },
  {
   "cell_type": "markdown",
   "id": "229d884b",
   "metadata": {},
   "source": [
    "## 연습문제: 피보나치 수열"
   ]
  },
  {
   "cell_type": "code",
   "execution_count": 10,
   "id": "eae0cb9a",
   "metadata": {},
   "outputs": [],
   "source": [
    "#recursive version\n",
    "def solution(n):\n",
    "    if n==0:\n",
    "        return 0\n",
    "    elif n==1:\n",
    "        return 1\n",
    "    else:\n",
    "        return solution(n-1) + solution(n-2)"
   ]
  },
  {
   "cell_type": "code",
   "execution_count": 13,
   "id": "9f7e96b5",
   "metadata": {},
   "outputs": [
    {
     "data": {
      "text/plain": [
       "13"
      ]
     },
     "execution_count": 13,
     "metadata": {},
     "output_type": "execute_result"
    }
   ],
   "source": [
    "solution(7)"
   ]
  },
  {
   "cell_type": "code",
   "execution_count": 27,
   "id": "e8636e0c",
   "metadata": {},
   "outputs": [],
   "source": [
    "#iterative version\n",
    "def solution(n):\n",
    "    if n>=2:\n",
    "        a = 0\n",
    "        b = 1\n",
    "        c = a + b\n",
    "        for i in range (n-2):\n",
    "            time = i\n",
    "            a = b\n",
    "            b = c\n",
    "            c = a + b\n",
    "        return(c)\n",
    "    else:\n",
    "        return n"
   ]
  },
  {
   "cell_type": "code",
   "execution_count": 28,
   "id": "1bf0bf66",
   "metadata": {},
   "outputs": [
    {
     "data": {
      "text/plain": [
       "13"
      ]
     },
     "execution_count": 28,
     "metadata": {},
     "output_type": "execute_result"
    }
   ],
   "source": [
    "solution(7)"
   ]
  },
  {
   "cell_type": "code",
   "execution_count": null,
   "id": "7dc22e4d",
   "metadata": {},
   "outputs": [],
   "source": []
  }
 ],
 "metadata": {
  "kernelspec": {
   "display_name": "Python 3 (ipykernel)",
   "language": "python",
   "name": "python3"
  },
  "language_info": {
   "codemirror_mode": {
    "name": "ipython",
    "version": 3
   },
   "file_extension": ".py",
   "mimetype": "text/x-python",
   "name": "python",
   "nbconvert_exporter": "python",
   "pygments_lexer": "ipython3",
   "version": "3.9.7"
  }
 },
 "nbformat": 4,
 "nbformat_minor": 5
}
