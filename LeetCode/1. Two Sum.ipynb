{
 "cells": [
  {
   "cell_type": "markdown",
   "id": "c145e149",
   "metadata": {},
   "source": [
    "# 1. Two Sum\n",
    "\n",
    "## Level: easy\n",
    "\n",
    "## Q. \n",
    "\n",
    "Given an array of integers **nums** and an integer **target**, return indices of the two numbers such that they add up to target.\n",
    "\n",
    "You may assume that each input would have **exactly one solution**, and you may not use the same element twice.\n",
    "\n",
    "You can return the answer in any order."
   ]
  },
  {
   "cell_type": "markdown",
   "id": "506f89b2",
   "metadata": {},
   "source": [
    "## Example 1)"
   ]
  },
  {
   "cell_type": "markdown",
   "id": "295cd76b",
   "metadata": {},
   "source": [
    "Input: nums = [2,7,11,15], target = 9\n",
    "\n",
    "Output: [0,1]\n",
    "\n",
    "Explanation: Because nums[0] + nums[1] == 9, we return [0, 1]."
   ]
  },
  {
   "cell_type": "markdown",
   "id": "e6532c27",
   "metadata": {},
   "source": [
    "## My Solution"
   ]
  },
  {
   "cell_type": "markdown",
   "id": "bc344071",
   "metadata": {},
   "source": [
    "idea:\n",
    "- use enumerate\n",
    "- use 'difference'\n",
    "- need the condition that limits duplicated use of indexes\n",
    "- .index() brings back indexes"
   ]
  },
  {
   "cell_type": "code",
   "execution_count": 42,
   "id": "2d677fc8",
   "metadata": {},
   "outputs": [],
   "source": [
    "class Solution(object):\n",
    "    def twoSum(self, nums, target):\n",
    "        result = []\n",
    "        for i, x in enumerate(nums):\n",
    "            difference = target - x\n",
    "            if difference in nums and nums.index(difference) != i:\n",
    "                result.append(i)\n",
    "                result.append(nums.index(difference))\n",
    "                break\n",
    "        return result"
   ]
  },
  {
   "cell_type": "code",
   "execution_count": 45,
   "id": "431865f3",
   "metadata": {},
   "outputs": [
    {
     "data": {
      "text/plain": [
       "[1, 2]"
      ]
     },
     "execution_count": 45,
     "metadata": {},
     "output_type": "execute_result"
    }
   ],
   "source": [
    "sol = Solution()\n",
    "\n",
    "nums = [3,2,4]\n",
    "target = 6\n",
    "\n",
    "sol.twoSum(nums, target)"
   ]
  }
 ],
 "metadata": {
  "kernelspec": {
   "display_name": "Python 3 (ipykernel)",
   "language": "python",
   "name": "python3"
  },
  "language_info": {
   "codemirror_mode": {
    "name": "ipython",
    "version": 3
   },
   "file_extension": ".py",
   "mimetype": "text/x-python",
   "name": "python",
   "nbconvert_exporter": "python",
   "pygments_lexer": "ipython3",
   "version": "3.9.7"
  }
 },
 "nbformat": 4,
 "nbformat_minor": 5
}
