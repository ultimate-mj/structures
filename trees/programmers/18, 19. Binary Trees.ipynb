{
 "cells": [
  {
   "cell_type": "code",
   "execution_count": 1,
   "id": "3387a869",
   "metadata": {},
   "outputs": [],
   "source": [
    "class Node:\n",
    "    def __init__(self, item):\n",
    "        self.data = item\n",
    "        self.left = None\n",
    "        self.right = None"
   ]
  },
  {
   "cell_type": "code",
   "execution_count": 3,
   "id": "478b8f4e",
   "metadata": {},
   "outputs": [],
   "source": [
    "class BinaryTree:\n",
    "    def __init__(self, r):\n",
    "        self.root = r"
   ]
  },
  {
   "cell_type": "code",
   "execution_count": 4,
   "id": "b172a74f",
   "metadata": {},
   "outputs": [],
   "source": [
    "class Node:\n",
    "    def size(self):\n",
    "        l = self.left.size() if self.left else 0    #왼쪽 subtree가 있다면 사이즈를 구함\n",
    "        r = self.right.size() if self.right else 0  # 오른쪽 subtree가 있다면 사이즈를 구함\n",
    "        return l + r + 1"
   ]
  },
  {
   "cell_type": "code",
   "execution_count": 5,
   "id": "663aedfe",
   "metadata": {},
   "outputs": [],
   "source": [
    "class BinaryTree:\n",
    "    def size(self):\n",
    "        if self.root:\n",
    "            return self.root.size()\n",
    "        else:\n",
    "            return 0"
   ]
  },
  {
   "cell_type": "code",
   "execution_count": 6,
   "id": "9f8f32eb",
   "metadata": {},
   "outputs": [
    {
     "ename": "IndentationError",
     "evalue": "expected an indented block (Temp/ipykernel_9900/3297505946.py, line 3)",
     "output_type": "error",
     "traceback": [
      "\u001b[1;36m  File \u001b[1;32m\"C:\\Users\\1\\AppData\\Local\\Temp/ipykernel_9900/3297505946.py\"\u001b[1;36m, line \u001b[1;32m3\u001b[0m\n\u001b[1;33m    \u001b[0m\n\u001b[1;37m    ^\u001b[0m\n\u001b[1;31mIndentationError\u001b[0m\u001b[1;31m:\u001b[0m expected an indented block\n"
     ]
    }
   ],
   "source": [
    "class Node:\n",
    "    def depth(self):\n",
    "        l = self.left.depth() if self.left else 0\n",
    "        r = self.right.depth() if self.right else 0\n",
    "        return max(l, r) + 1"
   ]
  },
  {
   "cell_type": "code",
   "execution_count": 7,
   "id": "3e7ec0ec",
   "metadata": {},
   "outputs": [
    {
     "ename": "SyntaxError",
     "evalue": "invalid syntax (Temp/ipykernel_9900/343169748.py, line 3)",
     "output_type": "error",
     "traceback": [
      "\u001b[1;36m  File \u001b[1;32m\"C:\\Users\\1\\AppData\\Local\\Temp/ipykernel_9900/343169748.py\"\u001b[1;36m, line \u001b[1;32m3\u001b[0m\n\u001b[1;33m    if\u001b[0m\n\u001b[1;37m      ^\u001b[0m\n\u001b[1;31mSyntaxError\u001b[0m\u001b[1;31m:\u001b[0m invalid syntax\n"
     ]
    }
   ],
   "source": [
    "class BinaryTree:\n",
    "    def depth(self):\n",
    "        if self.root:\n",
    "            return self.root.depth()\n",
    "    else:\n",
    "        return 0"
   ]
  },
  {
   "cell_type": "code",
   "execution_count": 8,
   "id": "f2453f2a",
   "metadata": {},
   "outputs": [],
   "source": [
    "class Node:\n",
    "    def inorder(self):\n",
    "        traversal = []\n",
    "        if self.left:  #왼쪽 서브트리가 있다면\n",
    "            traversal += self.left.inorder()  \n",
    "        traversal.append(self.data)  #자기 자신 방문\n",
    "        if self.right:\n",
    "            traversal += self.right.inorder()\n",
    "        return traversal"
   ]
  },
  {
   "cell_type": "code",
   "execution_count": 9,
   "id": "da5af794",
   "metadata": {},
   "outputs": [],
   "source": [
    "class BinaryTree:\n",
    "    def inorder(self):\n",
    "        if self.root:\n",
    "            return self.root.inorder()\n",
    "        else:\n",
    "            return []"
   ]
  },
  {
   "cell_type": "code",
   "execution_count": 10,
   "id": "1b1c263f",
   "metadata": {},
   "outputs": [],
   "source": [
    "class Node:\n",
    "    def preorder(self):\n",
    "        traversal = []\n",
    "        traversal.append(self.data)\n",
    "        if self.left:\n",
    "            traversal += self.left.preorder()\n",
    "        if self.right:\n",
    "            traversal += self.right.preorder()\n",
    "        return traversal"
   ]
  },
  {
   "cell_type": "code",
   "execution_count": 11,
   "id": "6ce11cb8",
   "metadata": {},
   "outputs": [],
   "source": [
    "class BinaryTree:\n",
    "    def preorder(self):\n",
    "        if self.root:\n",
    "            return self.root.preorder()\n",
    "        else:\n",
    "            return []"
   ]
  },
  {
   "cell_type": "code",
   "execution_count": 12,
   "id": "7a6df441",
   "metadata": {},
   "outputs": [],
   "source": [
    "class Node:\n",
    "    def postorder(self):\n",
    "        traversal = []\n",
    "        if self.left:\n",
    "            traversal += self.left.postorder()\n",
    "        if self.right:\n",
    "            traversal += self.right.postorder()\n",
    "        traversal.append(self.data)\n",
    "        return traversal"
   ]
  },
  {
   "cell_type": "code",
   "execution_count": 13,
   "id": "cb808cfe",
   "metadata": {},
   "outputs": [],
   "source": [
    "class BinaryTree:\n",
    "    def postorder(self):\n",
    "        if self.root:\n",
    "            return self.root.postorder()\n",
    "        else:\n",
    "            return []"
   ]
  },
  {
   "cell_type": "markdown",
   "id": "a9bf6281",
   "metadata": {},
   "source": [
    "1. (초기화) 빈 리스트인 traversal & 빈 큐인 q \n",
    "2. 빈 트리가 아니면, root node를 q에 추가 (enqueue)\n",
    "3. q가 비어 있지 않은 동안\n",
    "  - 3.1. node <- q에서 원소 추출 (dequeue)\n",
    "  - 3.2. node를 방문\n",
    "  - 3.3. node의 왼쪽, 오른쪽 자식 (있으면) 들을 q에 추가\n",
    "4. q가 빈 큐가 되면 모든 노드 방문 완료"
   ]
  },
  {
   "cell_type": "code",
   "execution_count": null,
   "id": "5f5d7bb7",
   "metadata": {},
   "outputs": [],
   "source": [
    "class BinaryTree:\n",
    "    def bft(self):\n",
    "        traversal = []\n",
    "        q = ArrayQueue()\n",
    "        \n",
    "        if self.root:\n",
    "            q.enqueue(self.root)\n",
    "            \n",
    "        while not q.isEmpty():\n",
    "            node = q.dequeue()\n",
    "            traversal.append(node.data)  #.data를 해줘야 함!!\n",
    "            if node.left():\n",
    "                q.enqueue(node.left)\n",
    "            if node.right():\n",
    "                q.enqueue(node.right)\n",
    "        return traversal"
   ]
  },
  {
   "cell_type": "code",
   "execution_count": null,
   "id": "e82b9700",
   "metadata": {},
   "outputs": [],
   "source": []
  }
 ],
 "metadata": {
  "kernelspec": {
   "display_name": "Python 3 (ipykernel)",
   "language": "python",
   "name": "python3"
  },
  "language_info": {
   "codemirror_mode": {
    "name": "ipython",
    "version": 3
   },
   "file_extension": ".py",
   "mimetype": "text/x-python",
   "name": "python",
   "nbconvert_exporter": "python",
   "pygments_lexer": "ipython3",
   "version": "3.9.7"
  }
 },
 "nbformat": 4,
 "nbformat_minor": 5
}
