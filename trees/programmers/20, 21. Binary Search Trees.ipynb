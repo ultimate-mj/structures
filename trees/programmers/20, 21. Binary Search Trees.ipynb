{
 "cells": [
  {
   "cell_type": "code",
   "execution_count": 1,
   "id": "d1ac423f",
   "metadata": {},
   "outputs": [],
   "source": [
    "class Node:\n",
    "    def __init__(self, key, data):\n",
    "        self.key = key\n",
    "        self.data = data\n",
    "        self.left = None\n",
    "        self.right = None"
   ]
  },
  {
   "cell_type": "code",
   "execution_count": 2,
   "id": "d42ff2bc",
   "metadata": {},
   "outputs": [],
   "source": [
    "class BinSearchTree:\n",
    "    def __init__(self):\n",
    "        self.root = None"
   ]
  },
  {
   "cell_type": "code",
   "execution_count": 3,
   "id": "a2ee96b7",
   "metadata": {},
   "outputs": [],
   "source": [
    "class Node:\n",
    "    def inorder(self):\n",
    "        traversal = []\n",
    "        if self.left:\n",
    "            traversal += self.left.inorder()\n",
    "        traversal.append(self)\n",
    "        if self.right:\n",
    "            traversal += self.right.inorder()\n",
    "        return traversal"
   ]
  },
  {
   "cell_type": "code",
   "execution_count": 4,
   "id": "3ec3d340",
   "metadata": {},
   "outputs": [],
   "source": [
    "class BinSearchTree:\n",
    "    def inorder(self):\n",
    "        if self.root:\n",
    "            return self.root.inorder()\n",
    "        else:\n",
    "            return []"
   ]
  },
  {
   "cell_type": "code",
   "execution_count": 5,
   "id": "376bbc2e",
   "metadata": {},
   "outputs": [],
   "source": [
    "class Node:\n",
    "    def min(self):\n",
    "        if self.left:\n",
    "            return self.left.min()\n",
    "        else:\n",
    "            return self"
   ]
  },
  {
   "cell_type": "code",
   "execution_count": 6,
   "id": "4174cde2",
   "metadata": {},
   "outputs": [],
   "source": [
    "class BinSearchTree:\n",
    "    def min(self):\n",
    "        if self.root:\n",
    "            return self.root.min()\n",
    "        else:\n",
    "            return None"
   ]
  },
  {
   "cell_type": "code",
   "execution_count": 7,
   "id": "d1e026f8",
   "metadata": {},
   "outputs": [],
   "source": [
    "class Node:\n",
    "    def lookup(self, key, parent = None):\n",
    "        if key < self.key:   #지금 방문된 노드보다 작다면\n",
    "            if self.left:    #왼쪽을 찾아보기\n",
    "                return self.left.lookup(key, self)  #self.left의 parent는 self이므로 그것을 인자로 넣어주기\n",
    "            else:\n",
    "                return None, None\n",
    "        elif key > self.key:\n",
    "            if self.right:\n",
    "                return self.right.lookup(key, self)\n",
    "            else:\n",
    "                return None, None\n",
    "        else: #찾으려는 노드 발견\n",
    "            return self, parent   #parent 노드 같이 리턴!!"
   ]
  },
  {
   "cell_type": "code",
   "execution_count": 8,
   "id": "35b32015",
   "metadata": {},
   "outputs": [],
   "source": [
    "class BinSearchTree:\n",
    "    def lookup(self, key):\n",
    "        if self.root:\n",
    "            return self.root.lookup(key)\n",
    "        else:\n",
    "            return None, None"
   ]
  },
  {
   "cell_type": "code",
   "execution_count": 9,
   "id": "5fff58d7",
   "metadata": {},
   "outputs": [],
   "source": [
    "class Node:\n",
    "    def insert(self, key, data):\n",
    "        if key < self.key:\n",
    "            if self.left:\n",
    "                self.left.insert(key, data) #return 이 있어야 하나?\n",
    "            else:\n",
    "                self.left = Node(key, data)\n",
    "        elif key > self.key:\n",
    "            if self.right:\n",
    "                self.right.insert(key, data)\n",
    "            else:\n",
    "                self.right = Node(key, data)\n",
    "        else:  #중복된 키는 없다고 가정함\n",
    "            raise KeyError('...')"
   ]
  },
  {
   "cell_type": "code",
   "execution_count": 10,
   "id": "16cdf111",
   "metadata": {},
   "outputs": [],
   "source": [
    "class BinSearchTree:\n",
    "    def insert(self, key, data):\n",
    "        if self.root:  #이미 존재하는 트리이면\n",
    "            self.root.insert(key, data)\n",
    "        else:  #빈 트리이면\n",
    "            self.root = Node(key, data)  #초기화한 새로운 노드 생성"
   ]
  },
  {
   "cell_type": "markdown",
   "id": "06761e08",
   "metadata": {},
   "source": [
    "## 21강"
   ]
  },
  {
   "cell_type": "code",
   "execution_count": 11,
   "id": "a90b1290",
   "metadata": {},
   "outputs": [],
   "source": [
    "class BinSearchTree:\n",
    "    def remove(self, key):\n",
    "        node, parent = self.lookup(key) \n",
    "        if node:   #주어진 키에 해당하는 노드가 있다면\n",
    "            ...    #삭제를 하고 True 반환\n",
    "            return True\n",
    "        else:\n",
    "            return False"
   ]
  },
  {
   "cell_type": "code",
   "execution_count": 12,
   "id": "afb6f5af",
   "metadata": {},
   "outputs": [],
   "source": [
    "class Node:\n",
    "    def countChildren(self):\n",
    "        count = 0 \n",
    "        if self.left:\n",
    "            count += 1\n",
    "        if self.right:\n",
    "            count += 1\n",
    "        return count"
   ]
  },
  {
   "cell_type": "code",
   "execution_count": 1,
   "id": "13326ed5",
   "metadata": {},
   "outputs": [
    {
     "ename": "NameError",
     "evalue": "name 'BinSearchTree' is not defined",
     "output_type": "error",
     "traceback": [
      "\u001b[1;31m---------------------------------------------------------------------------\u001b[0m",
      "\u001b[1;31mNameError\u001b[0m                                 Traceback (most recent call last)",
      "\u001b[1;32m~\\AppData\\Local\\Temp/ipykernel_8140/3441472518.py\u001b[0m in \u001b[0;36m<module>\u001b[1;34m\u001b[0m\n\u001b[0;32m      1\u001b[0m \u001b[1;31m#한쪽으로만 치우친 트리의 형태\u001b[0m\u001b[1;33m\u001b[0m\u001b[1;33m\u001b[0m\u001b[0m\n\u001b[0;32m      2\u001b[0m \u001b[1;31m#선형탐색과 동등한 정도의 복잡도를 가짐\u001b[0m\u001b[1;33m\u001b[0m\u001b[1;33m\u001b[0m\u001b[0m\n\u001b[1;32m----> 3\u001b[1;33m \u001b[0mT\u001b[0m \u001b[1;33m=\u001b[0m \u001b[0mBinSearchTree\u001b[0m\u001b[1;33m(\u001b[0m\u001b[1;33m)\u001b[0m\u001b[1;33m\u001b[0m\u001b[1;33m\u001b[0m\u001b[0m\n\u001b[0m\u001b[0;32m      4\u001b[0m \u001b[0mT\u001b[0m\u001b[1;33m.\u001b[0m\u001b[0minsert\u001b[0m\u001b[1;33m(\u001b[0m\u001b[1;36m1\u001b[0m\u001b[1;33m,\u001b[0m \u001b[1;34m'John'\u001b[0m\u001b[1;33m)\u001b[0m\u001b[1;33m\u001b[0m\u001b[1;33m\u001b[0m\u001b[0m\n\u001b[0;32m      5\u001b[0m \u001b[0mT\u001b[0m\u001b[1;33m.\u001b[0m\u001b[0minsert\u001b[0m\u001b[1;33m(\u001b[0m\u001b[1;36m2\u001b[0m\u001b[1;33m,\u001b[0m \u001b[1;34m'Mary'\u001b[0m\u001b[1;33m)\u001b[0m\u001b[1;33m\u001b[0m\u001b[1;33m\u001b[0m\u001b[0m\n",
      "\u001b[1;31mNameError\u001b[0m: name 'BinSearchTree' is not defined"
     ]
    }
   ],
   "source": [
    "#한쪽으로만 치우친 트리의 형태\n",
    "#선형탐색과 동등한 정도의 복잡도를 가짐\n",
    "T = BinSearchTree()\n",
    "T.insert(1, 'John')\n",
    "T.insert(2, 'Mary')\n",
    "T.insert(3, 'Anne')\n",
    "T.insert(4, 'Peter')"
   ]
  },
  {
   "cell_type": "code",
   "execution_count": null,
   "id": "1648aab6",
   "metadata": {},
   "outputs": [],
   "source": [
    "class BinSearchTree:\n",
    "    def remove(self, key):\n",
    "        node, parent = self.lookup(key)\n",
    "        if node:\n",
    "            nChildren = node.countChildren()\n",
    "            \n",
    "            # no children\n",
    "            if nChildren == 0:\n",
    "                # 만약 parent 가 있으면\n",
    "                # node 가 왼쪽 자식인지 오른쪽 자식인지 판단하여\n",
    "                # parent.left 또는 parent.right 를 None 으로 하여\n",
    "                # leaf node 였던 자식을 트리에서 끊어내어 없앱니다.\n",
    "                if parent:\n",
    "                    if key < parent.key:  #그냥 parent는 안 됨!\n",
    "                        parent.left == None\n",
    "                    else:\n",
    "                        parent.right == None\n",
    "                # 만약 parent 가 없으면 (node 는 root 인 경우)\n",
    "                # self.root 를 None 으로 하여 빈 트리로 만듭니다.\n",
    "                else:\n",
    "                    self.root == None\n",
    "                    else\n",
    "                \n",
    "            #one children\n",
    "            elif nChildren == 1:\n",
    "                # 하나 있는 자식이 왼쪽인지 오른쪽인지를 판단하여\n",
    "                # 그 자식을 어떤 변수가 가리키도록 합니다.\n",
    "                if node.left:                        \n",
    "                    temp = node.left\n",
    "                else\n",
    "                    temp = node.right\n",
    "                # 만약 parent 가 있으면\n",
    "                # node 가 왼쪽 자식인지 오른쪽 자식인지 판단하여\n",
    "                # 위에서 가리킨 자식을 대신 node 의 자리에 넣습니다.\n",
    "                if parent:\n",
    "                    if key < parent.key: #node == parent.left로 해도 통과됨!!\n",
    "                        parent.left = temp\n",
    "                    else:\n",
    "                        parent.right = temp\n",
    "                # 만약 parent 가 없으면 (node 는 root 인 경우)\n",
    "                # self.root 에 위에서 가리킨 자식을 대신 넣습니다.\n",
    "                else:\n",
    "                    self.root = temp\n",
    "            \n",
    "            #two children\n",
    "            else: \n",
    "                parent = node\n",
    "                successor = node.right\n",
    "                # parent 는 node 를 가리키고 있고,\n",
    "                # successor 는 node 의 오른쪽 자식을 가리키고 있으므로\n",
    "                # successor 로부터 왼쪽 자식의 링크를 반복하여 따라감으로써\n",
    "                # 순환문이 종료할 때 successor 는 바로 다음 키를 가진 노드를,\n",
    "                # 그리고 parent 는 그 노드의 부모 노드를 가리키도록 찾아냅니다.\n",
    "                while successor.left:\n",
    "                    parent = successor\n",
    "                    successor = successor.left\n",
    "                # 삭제하려는 노드인 node 에 successor 의 key 와 data 를 대입합니다.\n",
    "                node.key = successor.key\n",
    "                node.data = successor.data\n",
    "                \n",
    "                # 이제, successor 가 parent 의 왼쪽 자식인지 오른쪽 자식인지를 판단하여\n",
    "                # 그에 따라 parent.left 또는 parent.right 를\n",
    "                # successor 가 가지고 있던 (없을 수도 있지만) 자식을 가리키도록 합니다.\n",
    "                if successor.key < parent.key:\n",
    "                    parent.left = successor.right\n",
    "                else:\n",
    "                    parent.right = successor.right\n",
    "            return True\n",
    "        \n",
    "        else:\n",
    "            return False\n",
    "\n",
    "                    "
   ]
  }
 ],
 "metadata": {
  "kernelspec": {
   "display_name": "Python 3 (ipykernel)",
   "language": "python",
   "name": "python3"
  },
  "language_info": {
   "codemirror_mode": {
    "name": "ipython",
    "version": 3
   },
   "file_extension": ".py",
   "mimetype": "text/x-python",
   "name": "python",
   "nbconvert_exporter": "python",
   "pygments_lexer": "ipython3",
   "version": "3.9.7"
  }
 },
 "nbformat": 4,
 "nbformat_minor": 5
}
