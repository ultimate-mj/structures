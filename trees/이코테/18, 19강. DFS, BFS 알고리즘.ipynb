{
 "cells": [
  {
   "cell_type": "markdown",
   "id": "90ccdbb3",
   "metadata": {},
   "source": [
    "# 18강"
   ]
  },
  {
   "cell_type": "code",
   "execution_count": 7,
   "id": "cc242162",
   "metadata": {},
   "outputs": [],
   "source": [
    "def dfs(graph, v, visited):\n",
    "    #현재 노드를 방문 처리\n",
    "    visited[v] = True\n",
    "    print(v, end = ' ')  #방문했다는 의미로 출력\n",
    "    #현재 노드와 연결된 다른 노드를 재귀적으로 방문\n",
    "    for i in graph[v]:\n",
    "        if not visited[i]:\n",
    "            dfs(graph, i, visited)"
   ]
  },
  {
   "cell_type": "code",
   "execution_count": 8,
   "id": "92e6161b",
   "metadata": {},
   "outputs": [],
   "source": [
    "graph = [\n",
    "    [], #index 0은 비워두기: index 번호와 노드 번호를 일치시키기 위해\n",
    "    [2, 3, 8],  #1번 노드와 연결되어 있는 것은 2, 3, 8번\n",
    "    [1, 7],    #2번 노드와 연결된 것은 1번 노드, 7번 노드\n",
    "    [1, 4, 5], \n",
    "    [3, 5], \n",
    "    [3, 4],   #5번 노드\n",
    "    [7], \n",
    "    [2, 6, 8], \n",
    "    [1, 7]\n",
    "]"
   ]
  },
  {
   "cell_type": "code",
   "execution_count": 9,
   "id": "c5c19e84",
   "metadata": {},
   "outputs": [],
   "source": [
    "visited = [False]*9  #index 0은 사용하지 않는 방식으로 사용"
   ]
  },
  {
   "cell_type": "code",
   "execution_count": 10,
   "id": "3f9d92f3",
   "metadata": {},
   "outputs": [
    {
     "name": "stdout",
     "output_type": "stream",
     "text": [
      "1 2 7 6 8 3 4 5 "
     ]
    }
   ],
   "source": [
    "dfs(graph, 1, visited)"
   ]
  },
  {
   "cell_type": "markdown",
   "id": "bdd3e2f0",
   "metadata": {},
   "source": [
    "# 19강"
   ]
  },
  {
   "cell_type": "code",
   "execution_count": 12,
   "id": "bdf2f627",
   "metadata": {},
   "outputs": [],
   "source": [
    "from collections import deque\n",
    "\n",
    "def bfs(graph, start, visited):\n",
    "    #큐 구현을 위해 deque 라이브러리 사용\n",
    "    queue = deque([start])\n",
    "    #현재 노드를 방문 처리\n",
    "    visited[start] = True\n",
    "    #큐가 빌 때까지 반복\n",
    "    while queue:\n",
    "        #큐에서 하나의 원소를 뽑아 출력\n",
    "        v = queue.popleft()\n",
    "        print(v, end = ' ')\n",
    "        #아직 방문하지 않은 인접한 원소들을 큐에 삽입\n",
    "        for i in graph[v]:\n",
    "            if not visited[i]:\n",
    "                queue.append(i)\n",
    "                visited[i] = True"
   ]
  },
  {
   "cell_type": "code",
   "execution_count": 13,
   "id": "96173b84",
   "metadata": {},
   "outputs": [],
   "source": [
    "graph = [\n",
    "    [], #index 0은 비워두기: index 번호와 노드 번호를 일치시키기 위해\n",
    "    [2, 3, 8],  #1번 노드와 연결되어 있는 것은 2, 3, 8번\n",
    "    [1, 7],    #2번 노드와 연결된 것은 1번 노드, 7번 노드\n",
    "    [1, 4, 5], \n",
    "    [3, 5], \n",
    "    [3, 4],   #5번 노드\n",
    "    [7], \n",
    "    [2, 6, 8], \n",
    "    [1, 7]\n",
    "]\n",
    "\n",
    "visited = [False]*9  "
   ]
  },
  {
   "cell_type": "code",
   "execution_count": 14,
   "id": "c5b6dbc3",
   "metadata": {},
   "outputs": [
    {
     "name": "stdout",
     "output_type": "stream",
     "text": [
      "1 2 3 8 7 4 5 6 "
     ]
    }
   ],
   "source": [
    "bfs(graph, 1, visited)"
   ]
  },
  {
   "cell_type": "code",
   "execution_count": null,
   "id": "c8ebf0bd",
   "metadata": {},
   "outputs": [],
   "source": []
  }
 ],
 "metadata": {
  "kernelspec": {
   "display_name": "Python 3 (ipykernel)",
   "language": "python",
   "name": "python3"
  },
  "language_info": {
   "codemirror_mode": {
    "name": "ipython",
    "version": 3
   },
   "file_extension": ".py",
   "mimetype": "text/x-python",
   "name": "python",
   "nbconvert_exporter": "python",
   "pygments_lexer": "ipython3",
   "version": "3.9.7"
  }
 },
 "nbformat": 4,
 "nbformat_minor": 5
}
