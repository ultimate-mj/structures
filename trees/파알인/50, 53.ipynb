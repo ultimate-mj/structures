{
 "cells": [
  {
   "cell_type": "code",
   "execution_count": 1,
   "id": "3aef6bd5",
   "metadata": {},
   "outputs": [],
   "source": [
    "# 50\n",
    "class Solution(object):\n",
    "    def sortedArrayToBST(self, nums):\n",
    "        if not nums:\n",
    "            return None\n",
    "        \n",
    "        mid = len(nums) // 2\n",
    "        \n",
    "        node = TreeNode(nums[mid])\n",
    "        node.left = self.sortedArrayToBST(nums[:mid])\n",
    "        node.right = self.sortedArrayToBST(nums[mid + 1:])\n",
    "        \n",
    "        return node"
   ]
  },
  {
   "cell_type": "code",
   "execution_count": 4,
   "id": "901b365c",
   "metadata": {},
   "outputs": [],
   "source": [
    "# 53 재귀 구조로\n",
    "\n",
    "class Solution(object):\n",
    "    import sys\n",
    "    prev = -sys.maxsize\n",
    "    result = sys.maxsize\n",
    "\n",
    "    def minDiffInBST(self, root):\n",
    "        if root.left:\n",
    "            self.minDiffInBST(root.left)\n",
    "\n",
    "        self.result = min(self.result, root.val - self.prev)\n",
    "\n",
    "        self.prev = root.val\n",
    "\n",
    "        if root.right:\n",
    "            self.minDiffInBST(root.right)\n",
    "\n",
    "        return self.result"
   ]
  },
  {
   "cell_type": "code",
   "execution_count": null,
   "id": "d629d798",
   "metadata": {},
   "outputs": [],
   "source": [
    "# 53 반복 구조로\n",
    "\n",
    "def minDiffInBST(self, root):\n",
    "    import sys\n",
    "    prev = -sys.maxsize\n",
    "    result = sys.maxsize\n",
    "    \n",
    "    stack = []\n",
    "    node = root\n",
    "    \n",
    "    while stack or node:\n",
    "        while node:\n",
    "            stack.append(node)\n",
    "            node = node.left\n",
    "        \n",
    "        node = stack.pop()\n",
    "        \n",
    "        result = min(result, node.val - prev)\n",
    "        prev = node.val\n",
    "        \n",
    "        node = node.right\n",
    "    \n",
    "    return result"
   ]
  },
  {
   "cell_type": "code",
   "execution_count": null,
   "id": "99586573",
   "metadata": {},
   "outputs": [],
   "source": []
  }
 ],
 "metadata": {
  "kernelspec": {
   "display_name": "Python 3 (ipykernel)",
   "language": "python",
   "name": "python3"
  },
  "language_info": {
   "codemirror_mode": {
    "name": "ipython",
    "version": 3
   },
   "file_extension": ".py",
   "mimetype": "text/x-python",
   "name": "python",
   "nbconvert_exporter": "python",
   "pygments_lexer": "ipython3",
   "version": "3.9.7"
  }
 },
 "nbformat": 4,
 "nbformat_minor": 5
}
