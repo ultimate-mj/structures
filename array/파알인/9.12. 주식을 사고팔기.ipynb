{
 "cells": [
  {
   "cell_type": "markdown",
   "id": "a45b64fc",
   "metadata": {},
   "source": [
    "## 브루트 포스"
   ]
  },
  {
   "cell_type": "code",
   "execution_count": 7,
   "id": "8eab2c74",
   "metadata": {},
   "outputs": [],
   "source": [
    "def maxProfit(prices):\n",
    "    max_price = 0\n",
    "    \n",
    "    for i, price in enumerate(prices): #기준점 하나를 잡고 \n",
    "        for j in range(i, len(prices)):  #기준점을 그 뒤의 모든 항과 비교\n",
    "            max_price = max(prices[j] - price, max_price)\n",
    "    return max_price"
   ]
  },
  {
   "cell_type": "code",
   "execution_count": 8,
   "id": "7baccf55",
   "metadata": {},
   "outputs": [
    {
     "data": {
      "text/plain": [
       "5"
      ]
     },
     "execution_count": 8,
     "metadata": {},
     "output_type": "execute_result"
    }
   ],
   "source": [
    "maxProfit([7, 1, 5, 3, 6, 4])"
   ]
  },
  {
   "cell_type": "markdown",
   "id": "d2b3b7cb",
   "metadata": {},
   "source": [
    "## 저점과 현재 값과의 차이 계산"
   ]
  },
  {
   "cell_type": "code",
   "execution_count": 9,
   "id": "7e9c2798",
   "metadata": {},
   "outputs": [],
   "source": [
    "import matplotlib.pyplot as plt"
   ]
  },
  {
   "cell_type": "code",
   "execution_count": 10,
   "id": "703cd7a5",
   "metadata": {},
   "outputs": [
    {
     "data": {
      "text/plain": [
       "[<matplotlib.lines.Line2D at 0x19c96cd04f0>]"
      ]
     },
     "execution_count": 10,
     "metadata": {},
     "output_type": "execute_result"
    },
    {
     "data": {
      "image/png": "[encoded data removed]",
      "text/plain": [
       "<Figure size 432x288 with 1 Axes>"
      ]
     },
     "metadata": {
      "needs_background": "light"
     },
     "output_type": "display_data"
    }
   ],
   "source": [
    "plt.plot([7, 1, 5, 3, 6, 4])"
   ]
  },
  {
   "cell_type": "code",
   "execution_count": 14,
   "id": "80ae5ad4",
   "metadata": {},
   "outputs": [],
   "source": [
    "import sys"
   ]
  },
  {
   "cell_type": "code",
   "execution_count": 15,
   "id": "c01cc77d",
   "metadata": {},
   "outputs": [],
   "source": [
    "def maxProfit(prices):\n",
    "    profit = 0   #최댓값을 추출하고 싶은 변수에 최솟값 넣고\n",
    "    min_price = sys.maxsize   #최솟값을 추출하고 싶은 변수에 최댓값 넣기\n",
    "    #원래는 profit = -sys.maxsize 이어야 하는데 이 문제에서만 0으로 지정\n",
    "    #입력값이 [] 인 경우, -sys.maxsize가 그대로 리턴될 수 있기 때문\n",
    "    \n",
    "    for i in prices:\n",
    "        min_price = min(min_price, i)\n",
    "        profit = max(profit, i - min_price)\n",
    "    return profit"
   ]
  },
  {
   "cell_type": "code",
   "execution_count": 16,
   "id": "5b25a213",
   "metadata": {},
   "outputs": [
    {
     "data": {
      "text/plain": [
       "5"
      ]
     },
     "execution_count": 16,
     "metadata": {},
     "output_type": "execute_result"
    }
   ],
   "source": [
    "maxProfit([7, 1, 5, 3, 6, 4])"
   ]
  },
  {
   "cell_type": "code",
   "execution_count": null,
   "id": "696490ae",
   "metadata": {},
   "outputs": [],
   "source": []
  }
 ],
 "metadata": {
  "kernelspec": {
   "display_name": "Python 3 (ipykernel)",
   "language": "python",
   "name": "python3"
  },
  "language_info": {
   "codemirror_mode": {
    "name": "ipython",
    "version": 3
   },
   "file_extension": ".py",
   "mimetype": "text/x-python",
   "name": "python",
   "nbconvert_exporter": "python",
   "pygments_lexer": "ipython3",
   "version": "3.9.7"
  }
 },
 "nbformat": 4,
 "nbformat_minor": 5
}
