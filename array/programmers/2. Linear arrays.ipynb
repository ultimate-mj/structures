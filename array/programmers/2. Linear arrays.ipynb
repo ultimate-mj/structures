{
 "cells": [
  {
   "cell_type": "code",
   "execution_count": 12,
   "id": "e09577a4",
   "metadata": {},
   "outputs": [
    {
     "data": {
      "text/plain": [
       "'spam'"
      ]
     },
     "execution_count": 12,
     "metadata": {},
     "output_type": "execute_result"
    }
   ],
   "source": [
    "L = ['dog', 'cat', 'spam', 'program']\n",
    "L[-2]  #인덱스로 값을 꺼낼 수 있다"
   ]
  },
  {
   "cell_type": "markdown",
   "id": "bb333b21",
   "metadata": {},
   "source": [
    "## 리스트 연산"
   ]
  },
  {
   "cell_type": "markdown",
   "id": "063c4a98",
   "metadata": {},
   "source": [
    "### 1. 원소 덧붙이기"
   ]
  },
  {
   "cell_type": "code",
   "execution_count": 4,
   "id": "c1cb4ec1",
   "metadata": {},
   "outputs": [
    {
     "data": {
      "text/plain": [
       "['dog', 'cat', 'spam', 'program', 'new']"
      ]
     },
     "execution_count": 4,
     "metadata": {},
     "output_type": "execute_result"
    }
   ],
   "source": [
    "L.append('new')\n",
    "L"
   ]
  },
  {
   "cell_type": "markdown",
   "id": "650a8405",
   "metadata": {},
   "source": [
    "### 2. 끝에서 꺼내기"
   ]
  },
  {
   "cell_type": "code",
   "execution_count": 5,
   "id": "7c7bd941",
   "metadata": {},
   "outputs": [
    {
     "data": {
      "text/plain": [
       "'new'"
      ]
     },
     "execution_count": 5,
     "metadata": {},
     "output_type": "execute_result"
    }
   ],
   "source": [
    "L.pop()  #마지막 원소가 나옴과 동시에 해당 리스트에서 값이 빠짐"
   ]
  },
  {
   "cell_type": "code",
   "execution_count": 6,
   "id": "7db61587",
   "metadata": {},
   "outputs": [
    {
     "data": {
      "text/plain": [
       "['dog', 'cat', 'spam', 'program']"
      ]
     },
     "execution_count": 6,
     "metadata": {},
     "output_type": "execute_result"
    }
   ],
   "source": [
    "L"
   ]
  },
  {
   "cell_type": "markdown",
   "id": "fa446159",
   "metadata": {},
   "source": [
    "### 3. 원소 삽입하기"
   ]
  },
  {
   "cell_type": "code",
   "execution_count": 16,
   "id": "7cd80ded",
   "metadata": {},
   "outputs": [],
   "source": [
    "L = [20, 37, 58, 72, 91]  #여기에 65를 넣고 싶음\n",
    "L.insert(3, 65)  #index 3에 65를 넣기"
   ]
  },
  {
   "cell_type": "code",
   "execution_count": 17,
   "id": "e22330c2",
   "metadata": {},
   "outputs": [
    {
     "data": {
      "text/plain": [
       "[20, 37, 58, 65, 72, 91]"
      ]
     },
     "execution_count": 17,
     "metadata": {},
     "output_type": "execute_result"
    }
   ],
   "source": [
    "L"
   ]
  },
  {
   "cell_type": "markdown",
   "id": "a0b43a5b",
   "metadata": {},
   "source": [
    "### 4. 원소 삭제하기"
   ]
  },
  {
   "cell_type": "code",
   "execution_count": 18,
   "id": "81ddf2ce",
   "metadata": {},
   "outputs": [],
   "source": [
    "del(L[2])  #index 2의 원소를 삭제하라"
   ]
  },
  {
   "cell_type": "code",
   "execution_count": 19,
   "id": "621d9e50",
   "metadata": {},
   "outputs": [
    {
     "data": {
      "text/plain": [
       "[20, 37, 65, 72, 91]"
      ]
     },
     "execution_count": 19,
     "metadata": {},
     "output_type": "execute_result"
    }
   ],
   "source": [
    "L"
   ]
  },
  {
   "cell_type": "code",
   "execution_count": 20,
   "id": "07ae5aa2",
   "metadata": {},
   "outputs": [
    {
     "data": {
      "text/plain": [
       "65"
      ]
     },
     "execution_count": 20,
     "metadata": {},
     "output_type": "execute_result"
    }
   ],
   "source": [
    "L.pop(2)  #이것도 가능"
   ]
  },
  {
   "cell_type": "code",
   "execution_count": 22,
   "id": "67209532",
   "metadata": {},
   "outputs": [
    {
     "data": {
      "text/plain": [
       "[20, 37, 72, 91]"
      ]
     },
     "execution_count": 22,
     "metadata": {},
     "output_type": "execute_result"
    }
   ],
   "source": [
    "L"
   ]
  },
  {
   "cell_type": "markdown",
   "id": "a7bcb474",
   "metadata": {},
   "source": [
    "### 5. 원소 탐색하기"
   ]
  },
  {
   "cell_type": "code",
   "execution_count": 39,
   "id": "990914ff",
   "metadata": {},
   "outputs": [
    {
     "data": {
      "text/plain": [
       "2"
      ]
     },
     "execution_count": 39,
     "metadata": {},
     "output_type": "execute_result"
    }
   ],
   "source": [
    "L = ['dog', 'cat', 'spam', 'program']\n",
    "L.index('spam')  #spam 의 index 찾기"
   ]
  },
  {
   "cell_type": "markdown",
   "id": "a7cb0dc8",
   "metadata": {},
   "source": [
    "## 연습문제(1)"
   ]
  },
  {
   "cell_type": "markdown",
   "id": "c0a3c0a6",
   "metadata": {},
   "source": [
    "리스트 L 과 정수 x 가 인자로 주어질 때, 리스트 내의 올바른 위치에 x 를 삽입하여 그 결과 리스트를 반환하는 함수 solution 을 완성하세요."
   ]
  },
  {
   "cell_type": "code",
   "execution_count": 40,
   "id": "43955178",
   "metadata": {},
   "outputs": [],
   "source": [
    "def solution_my(L, x):\n",
    "    if x < L[0]:\n",
    "        L.insert(0, x)\n",
    "    elif x > L[-1]:\n",
    "        L.append(x)\n",
    "    else:\n",
    "        ind = 0\n",
    "        for i in range(len(L)):\n",
    "            if L[i] < x:\n",
    "                ind += 1\n",
    "            else:\n",
    "                break\n",
    "        L.insert(ind, x)\n",
    "    return L      "
   ]
  },
  {
   "cell_type": "code",
   "execution_count": 41,
   "id": "027790be",
   "metadata": {},
   "outputs": [],
   "source": [
    "L = [20, 37, 58, 72, 91]\n",
    "x = 65"
   ]
  },
  {
   "cell_type": "code",
   "execution_count": 42,
   "id": "ae16b8c5",
   "metadata": {},
   "outputs": [
    {
     "data": {
      "text/plain": [
       "[20, 37, 58, 65, 72, 91]"
      ]
     },
     "execution_count": 42,
     "metadata": {},
     "output_type": "execute_result"
    }
   ],
   "source": [
    "solution_my(L, x)"
   ]
  },
  {
   "cell_type": "code",
   "execution_count": 43,
   "id": "96281961",
   "metadata": {},
   "outputs": [],
   "source": [
    "def solution_other(L, x):\n",
    "    if x < L[0]:\n",
    "        L.insert(0, x)\n",
    "    elif x > L[-1]:\n",
    "        L.append(x)\n",
    "    else:\n",
    "        ind = 0\n",
    "        for i in range(len(L)):\n",
    "            if L[i] < x:\n",
    "                ind += 1\n",
    "            else:\n",
    "                break\n",
    "        L.insert(ind, x)\n",
    "    return L      "
   ]
  },
  {
   "cell_type": "code",
   "execution_count": 44,
   "id": "c96fc041",
   "metadata": {},
   "outputs": [
    {
     "data": {
      "text/plain": [
       "[20, 37, 58, 65, 65, 72, 91]"
      ]
     },
     "execution_count": 44,
     "metadata": {},
     "output_type": "execute_result"
    }
   ],
   "source": [
    "solution_other(L, x)"
   ]
  },
  {
   "cell_type": "markdown",
   "id": "2a1e79d6",
   "metadata": {},
   "source": [
    "## 연습문제(2)"
   ]
  },
  {
   "cell_type": "code",
   "execution_count": 51,
   "id": "c93f80ff",
   "metadata": {},
   "outputs": [],
   "source": [
    "def solution(L, x):\n",
    "    answer = []\n",
    "    if x in L:\n",
    "        for i in range(len(L)):\n",
    "            if x == L[i]:\n",
    "                answer.append(i)\n",
    "    else:\n",
    "        answer = [-1]\n",
    "    return answer"
   ]
  },
  {
   "cell_type": "code",
   "execution_count": 52,
   "id": "33c52f0b",
   "metadata": {},
   "outputs": [],
   "source": [
    "L = [6, 7, 2, 8, 7, 3]\n",
    "x = 7"
   ]
  },
  {
   "cell_type": "code",
   "execution_count": 53,
   "id": "831a1e80",
   "metadata": {},
   "outputs": [
    {
     "data": {
      "text/plain": [
       "[1, 4]"
      ]
     },
     "execution_count": 53,
     "metadata": {},
     "output_type": "execute_result"
    }
   ],
   "source": [
    "solution(L, x)"
   ]
  },
  {
   "cell_type": "code",
   "execution_count": null,
   "id": "7fb4a161",
   "metadata": {},
   "outputs": [],
   "source": []
  }
 ],
 "metadata": {
  "kernelspec": {
   "display_name": "Python 3 (ipykernel)",
   "language": "python",
   "name": "python3"
  },
  "language_info": {
   "codemirror_mode": {
    "name": "ipython",
    "version": 3
   },
   "file_extension": ".py",
   "mimetype": "text/x-python",
   "name": "python",
   "nbconvert_exporter": "python",
   "pygments_lexer": "ipython3",
   "version": "3.9.7"
  }
 },
 "nbformat": 4,
 "nbformat_minor": 5
}
