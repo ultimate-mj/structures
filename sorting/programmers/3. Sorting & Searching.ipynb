{
 "cells": [
  {
   "cell_type": "code",
   "execution_count": 4,
   "id": "c8f882bf",
   "metadata": {},
   "outputs": [
    {
     "name": "stdout",
     "output_type": "stream",
     "text": [
      "[2, 3, 6, 7, 8]\n",
      "[3, 8, 2, 7, 6]\n",
      "[2, 3, 6, 7, 8]\n"
     ]
    }
   ],
   "source": [
    "L = [3, 8, 2, 7, 6]\n",
    "L2 = sorted(L)  #L은 변화하지 않음\n",
    "print(L2)\n",
    "print(L)\n",
    "L.sort()  #L이 변화함\n",
    "print(L)"
   ]
  },
  {
   "cell_type": "code",
   "execution_count": 6,
   "id": "6a7c6ea0",
   "metadata": {},
   "outputs": [
    {
     "name": "stdout",
     "output_type": "stream",
     "text": [
      "[8, 7, 6, 3, 2]\n",
      "[8, 7, 6, 3, 2]\n"
     ]
    }
   ],
   "source": [
    "L2 = sorted(L, reverse=True)\n",
    "L.sort(reverse=True)\n",
    "print(L2)\n",
    "print(L)"
   ]
  },
  {
   "cell_type": "markdown",
   "id": "7d283363",
   "metadata": {},
   "source": [
    "## 문자열 정렬 기준 변경"
   ]
  },
  {
   "cell_type": "markdown",
   "id": "a8360997",
   "metadata": {},
   "source": [
    "example1: 길이 기준"
   ]
  },
  {
   "cell_type": "code",
   "execution_count": 7,
   "id": "f731c452",
   "metadata": {},
   "outputs": [
    {
     "data": {
      "text/plain": [
       "['xyz', 'abcd', 'spam']"
      ]
     },
     "execution_count": 7,
     "metadata": {},
     "output_type": "execute_result"
    }
   ],
   "source": [
    "L = ['abcd', 'xyz', 'spam']\n",
    "sorted(L, key=lambda x: len(x))"
   ]
  },
  {
   "cell_type": "code",
   "execution_count": 8,
   "id": "86cb10b0",
   "metadata": {},
   "outputs": [
    {
     "data": {
      "text/plain": [
       "['xyz', 'spam', 'abcd']"
      ]
     },
     "execution_count": 8,
     "metadata": {},
     "output_type": "execute_result"
    }
   ],
   "source": [
    "L = ['spam', 'xyz', 'abcd']\n",
    "sorted(L, key=lambda x: len(x))   # spam과 abcd 의 순서가 바뀜"
   ]
  },
  {
   "cell_type": "markdown",
   "id": "8c5b4cc8",
   "metadata": {},
   "source": [
    "example2: 레코드를 인덱스 기준으로"
   ]
  },
  {
   "cell_type": "code",
   "execution_count": 9,
   "id": "0f106715",
   "metadata": {},
   "outputs": [],
   "source": [
    "L = [{'name': 'John', 'score': 83}, {'name':'Paul', 'score':92}]\n",
    "L.sort(key=lambda x: x['name'])  #이름 순서"
   ]
  },
  {
   "cell_type": "code",
   "execution_count": 10,
   "id": "ddbb9d68",
   "metadata": {},
   "outputs": [
    {
     "data": {
      "text/plain": [
       "[{'name': 'John', 'score': 83}, {'name': 'Paul', 'score': 92}]"
      ]
     },
     "execution_count": 10,
     "metadata": {},
     "output_type": "execute_result"
    }
   ],
   "source": [
    "L"
   ]
  },
  {
   "cell_type": "code",
   "execution_count": 11,
   "id": "c116cb2c",
   "metadata": {},
   "outputs": [
    {
     "data": {
      "text/plain": [
       "[{'name': 'John', 'score': 83}, {'name': 'Paul', 'score': 92}]"
      ]
     },
     "execution_count": 11,
     "metadata": {},
     "output_type": "execute_result"
    }
   ],
   "source": [
    "L = [{'name': 'John', 'score': 83}, {'name':'Paul', 'score':92}]\n",
    "L.sort(key=lambda x: x['score'], reverse=True)  #점수 높은 순서\n",
    "L"
   ]
  },
  {
   "cell_type": "markdown",
   "id": "59bb8446",
   "metadata": {},
   "source": [
    "## 탐색 알고리즘"
   ]
  },
  {
   "cell_type": "code",
   "execution_count": 12,
   "id": "45a62aa9",
   "metadata": {},
   "outputs": [],
   "source": [
    "def linear_search(L, x):\n",
    "    i=0\n",
    "    while i<len(L) and L[i] != x:\n",
    "        i+=1\n",
    "    if i < len(L):\n",
    "        return i\n",
    "    else:\n",
    "        return -1"
   ]
  },
  {
   "cell_type": "code",
   "execution_count": 13,
   "id": "9f1536a2",
   "metadata": {},
   "outputs": [],
   "source": [
    "S = [3, 8, 2, 7, 6, 10, 9]"
   ]
  },
  {
   "cell_type": "code",
   "execution_count": 14,
   "id": "96a95135",
   "metadata": {},
   "outputs": [
    {
     "data": {
      "text/plain": [
       "4"
      ]
     },
     "execution_count": 14,
     "metadata": {},
     "output_type": "execute_result"
    }
   ],
   "source": [
    "linear_search(S, 6)"
   ]
  },
  {
   "cell_type": "code",
   "execution_count": 16,
   "id": "50083549",
   "metadata": {},
   "outputs": [
    {
     "data": {
      "text/plain": [
       "-1"
      ]
     },
     "execution_count": 16,
     "metadata": {},
     "output_type": "execute_result"
    }
   ],
   "source": [
    "linear_search(S, 1)"
   ]
  },
  {
   "cell_type": "code",
   "execution_count": 18,
   "id": "229c48c9",
   "metadata": {},
   "outputs": [
    {
     "data": {
      "text/plain": [
       "4"
      ]
     },
     "execution_count": 18,
     "metadata": {},
     "output_type": "execute_result"
    }
   ],
   "source": [
    "S.index(6) #index 함수와 동일한 결과"
   ]
  },
  {
   "cell_type": "markdown",
   "id": "f8b065b9",
   "metadata": {},
   "source": [
    "## 이진 탐색 코드 구현"
   ]
  },
  {
   "cell_type": "code",
   "execution_count": null,
   "id": "cd5aa9e3",
   "metadata": {},
   "outputs": [],
   "source": [
    "lower = 0\n",
    "upper = len(L) - 1\n",
    "idx = -1\n",
    "while lower <= upper:\n",
    "    middle = (lower + upper) //2\n",
    "    if L[middle] == target:\n",
    "        ...\n",
    "    elif L[middle] < target:\n",
    "        lower = ...\n",
    "    else:\n",
    "        upper = ..."
   ]
  },
  {
   "cell_type": "markdown",
   "id": "446c4b6e",
   "metadata": {},
   "source": [
    "## 연습문제"
   ]
  },
  {
   "cell_type": "code",
   "execution_count": 19,
   "id": "f6ddeebe",
   "metadata": {},
   "outputs": [],
   "source": [
    "def solution_my(L, x):\n",
    "    lower = 0\n",
    "    upper = len(L)-1\n",
    "    while lower +1 <= upper:\n",
    "        middle = (lower + upper) // 2\n",
    "        if L[middle] == x:\n",
    "            return middle\n",
    "        elif L[middle] < x:\n",
    "            lower = middle + 1  # +1 을 해야 함\n",
    "        else:\n",
    "            upper = middle - 1  # -1 을 해야 함\n",
    "            break\n",
    "    return -1"
   ]
  },
  {
   "cell_type": "code",
   "execution_count": null,
   "id": "99e9330b",
   "metadata": {},
   "outputs": [],
   "source": [
    "def solution_other(L, x):\n",
    "    low=0\n",
    "    high=len(L)-1\n",
    "    while(low<=high):\n",
    "        mid=low+(high-low)//2\n",
    "        if(L[mid]==x):\n",
    "            return mid\n",
    "        elif(L[mid]>x):\n",
    "            high=mid-1\n",
    "        else:\n",
    "            low=mid+1\n",
    "    return -1 "
   ]
  }
 ],
 "metadata": {
  "kernelspec": {
   "display_name": "Python 3 (ipykernel)",
   "language": "python",
   "name": "python3"
  },
  "language_info": {
   "codemirror_mode": {
    "name": "ipython",
    "version": 3
   },
   "file_extension": ".py",
   "mimetype": "text/x-python",
   "name": "python",
   "nbconvert_exporter": "python",
   "pygments_lexer": "ipython3",
   "version": "3.9.7"
  }
 },
 "nbformat": 4,
 "nbformat_minor": 5
}
