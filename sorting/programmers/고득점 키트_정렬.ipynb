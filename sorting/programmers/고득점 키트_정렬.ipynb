{
 "cells": [
  {
   "cell_type": "markdown",
   "id": "712dfc45",
   "metadata": {},
   "source": [
    "## K번째 수"
   ]
  },
  {
   "cell_type": "code",
   "execution_count": 17,
   "id": "08641f1f",
   "metadata": {},
   "outputs": [],
   "source": [
    "def solution(array, i, j, k):\n",
    "    array = array[i-1:j]\n",
    "    array = sorted(array)\n",
    "    return array[k-1]"
   ]
  },
  {
   "cell_type": "code",
   "execution_count": 18,
   "id": "8dcd6e9c",
   "metadata": {},
   "outputs": [
    {
     "data": {
      "text/plain": [
       "5"
      ]
     },
     "execution_count": 18,
     "metadata": {},
     "output_type": "execute_result"
    }
   ],
   "source": [
    "solution([1, 5, 2, 6, 3, 7, 4], 2, 5, 3)"
   ]
  },
  {
   "cell_type": "code",
   "execution_count": 26,
   "id": "70b46f80",
   "metadata": {},
   "outputs": [],
   "source": [
    "commands = [[2, 5, 3], [4, 4, 1], [1, 7, 3]]"
   ]
  },
  {
   "cell_type": "code",
   "execution_count": 49,
   "id": "cafe8185",
   "metadata": {},
   "outputs": [],
   "source": [
    "def solution(array, commands):\n",
    "    answer = []\n",
    "    for i in commands:\n",
    "        array2 = array[i[0]-1:i[1]]  #여기서 i 는 작은 list 하나를 말함\n",
    "        array2 = sorted(array2)\n",
    "        answer.append(array2[i[2]-1])\n",
    "    return answer"
   ]
  },
  {
   "cell_type": "code",
   "execution_count": 50,
   "id": "793f03c9",
   "metadata": {},
   "outputs": [
    {
     "data": {
      "text/plain": [
       "[5, 6, 3]"
      ]
     },
     "execution_count": 50,
     "metadata": {},
     "output_type": "execute_result"
    }
   ],
   "source": [
    "solution([1, 5, 2, 6, 3, 7, 4], commands)"
   ]
  },
  {
   "cell_type": "markdown",
   "id": "cd1439b0",
   "metadata": {},
   "source": [
    "## 가장 큰 수"
   ]
  },
  {
   "cell_type": "code",
   "execution_count": 52,
   "id": "e68816fa",
   "metadata": {},
   "outputs": [
    {
     "data": {
      "text/plain": [
       "'6'"
      ]
     },
     "execution_count": 52,
     "metadata": {},
     "output_type": "execute_result"
    }
   ],
   "source": [
    "str(2608)[1]"
   ]
  },
  {
   "cell_type": "code",
   "execution_count": 84,
   "id": "85537aac",
   "metadata": {},
   "outputs": [],
   "source": [
    "def solution(numbers):\n",
    "    answer = ''\n",
    "    for i in range(len(numbers)):\n",
    "        max_index = i\n",
    "        for j in range(i+1, len(numbers)):\n",
    "            if int(str(numbers[max_index])[0]) < int(str(numbers[j])[0]):\n",
    "                max_index = j   #for j 문을 반복하게 되면 가장 작은 원소가 min_index에 담기게 됨\n",
    "            elif int(str(numbers[max_index])[0]) == int(str(numbers[j])[0]):  #0번째가 같다면\n",
    "                if len(str(numbers[max_index])) >= 2 and len(str(numbers[j])) >= 2:  #둘 다 길이가 2보다 크면\n",
    "                    if int(str(numbers[max_index])[1]) < int(str(numbers[j])[1]):\n",
    "                        max_index = j\n",
    "        numbers[i], numbers[max_index] = numbers[max_index], numbers[i]\n",
    "    for i in range(len(numbers)):\n",
    "        answer += str(numbers[i])\n",
    "    return answer"
   ]
  },
  {
   "cell_type": "code",
   "execution_count": 85,
   "id": "06f69e32",
   "metadata": {},
   "outputs": [
    {
     "data": {
      "text/plain": [
       "'9534303'"
      ]
     },
     "execution_count": 85,
     "metadata": {},
     "output_type": "execute_result"
    }
   ],
   "source": [
    "solution([3, 30, 34, 5, 9])"
   ]
  },
  {
   "cell_type": "code",
   "execution_count": 86,
   "id": "9099e5b3",
   "metadata": {},
   "outputs": [],
   "source": [
    "def solution(numbers):\n",
    "    answer = ''\n",
    "    for i in range(len(numbers)):\n",
    "        max_index = i \n",
    "        for j in range(i+1, len(numbers)):\n",
    "            if int(str(numbers[max_index]) + str(numbers[j])) < int(str(numbers[j]) + str(numbers[max_index])):\n",
    "                max_index = j\n",
    "        numbers[i], numbers[max_index] = numbers[max_index], numbers[i]\n",
    "    for i in range(len(numbers)):\n",
    "        answer += str(numbers[i])\n",
    "    return answer"
   ]
  },
  {
   "cell_type": "code",
   "execution_count": 87,
   "id": "54fe9b2b",
   "metadata": {},
   "outputs": [
    {
     "data": {
      "text/plain": [
       "'9534330'"
      ]
     },
     "execution_count": 87,
     "metadata": {},
     "output_type": "execute_result"
    }
   ],
   "source": [
    "solution([3, 30, 34, 5, 9])"
   ]
  },
  {
   "cell_type": "markdown",
   "id": "3f0d23e2",
   "metadata": {},
   "source": [
    "## H-Index"
   ]
  },
  {
   "cell_type": "code",
   "execution_count": null,
   "id": "e96e3a4d",
   "metadata": {},
   "outputs": [],
   "source": [
    "array = [7, 5, 9, 0, 3, 1, 6, 2, 9, 1, 4, 8, 0, 5, 2]\n",
    "count = [0] * (max(array)+1)  #리스트 선언\n",
    "\n",
    "for i in range(len(array)):\n",
    "    count[array[i]] += 1  #각 데이터에 해당하는 인덱스의 값 증가\n",
    "    \n",
    "for i in range(len(count)):  #리스트 정렬 정보 확인\n",
    "    for j in range(count[i]):  #각 데이터의 횟수 = j\n",
    "        print(i, end=' ')"
   ]
  },
  {
   "cell_type": "code",
   "execution_count": 132,
   "id": "82a60de3",
   "metadata": {},
   "outputs": [],
   "source": [
    "def solution(citations):\n",
    "    for i in citations:\n",
    "        low = 0\n",
    "        high = 0\n",
    "        for j in range(len(citations)):\n",
    "            if citations[j] >= i:  #인용 횟수가 이상인 경우 세기\n",
    "                high += 1\n",
    "            elif citations[j] < i:  #인용 횟수가 미만인 경우 세기\n",
    "                low += 1\n",
    "        if low <= i and high >= i:\n",
    "            answer = i\n",
    "        return answer"
   ]
  },
  {
   "cell_type": "code",
   "execution_count": 133,
   "id": "099e22e7",
   "metadata": {},
   "outputs": [
    {
     "data": {
      "text/plain": [
       "3"
      ]
     },
     "execution_count": 133,
     "metadata": {},
     "output_type": "execute_result"
    }
   ],
   "source": [
    "solution([3, 0, 6, 1, 5])"
   ]
  },
  {
   "cell_type": "code",
   "execution_count": null,
   "id": "5205063e",
   "metadata": {},
   "outputs": [],
   "source": []
  }
 ],
 "metadata": {
  "kernelspec": {
   "display_name": "Python 3 (ipykernel)",
   "language": "python",
   "name": "python3"
  },
  "language_info": {
   "codemirror_mode": {
    "name": "ipython",
    "version": 3
   },
   "file_extension": ".py",
   "mimetype": "text/x-python",
   "name": "python",
   "nbconvert_exporter": "python",
   "pygments_lexer": "ipython3",
   "version": "3.9.7"
  }
 },
 "nbformat": 4,
 "nbformat_minor": 5
}
