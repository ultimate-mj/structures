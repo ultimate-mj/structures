{
 "cells": [
  {
   "cell_type": "code",
   "execution_count": 4,
   "id": "c8f882bf",
   "metadata": {},
   "outputs": [
    {
     "name": "stdout",
     "output_type": "stream",
     "text": [
      "[2, 3, 6, 7, 8]\n",
      "[3, 8, 2, 7, 6]\n",
      "[2, 3, 6, 7, 8]\n"
     ]
    }
   ],
   "source": [
    "L = [3, 8, 2, 7, 6]\n",
    "L2 = sorted(L)  #L은 변화하지 않음\n",
    "print(L2)\n",
    "print(L)\n",
    "L.sort()  #L이 변화함\n",
    "print(L)"
   ]
  },
  {
   "cell_type": "code",
   "execution_count": 6,
   "id": "6a7c6ea0",
   "metadata": {},
   "outputs": [
    {
     "name": "stdout",
     "output_type": "stream",
     "text": [
      "[8, 7, 6, 3, 2]\n",
      "[8, 7, 6, 3, 2]\n"
     ]
    }
   ],
   "source": [
    "L2 = sorted(L, reverse=True)\n",
    "L.sort(reverse=True)\n",
    "print(L2)\n",
    "print(L)"
   ]
  },
  {
   "cell_type": "markdown",
   "id": "7d283363",
   "metadata": {},
   "source": [
    "## 문자열 정렬 기준 변경"
   ]
  },
  {
   "cell_type": "markdown",
   "id": "a8360997",
   "metadata": {},
   "source": [
    "example1: 길이 기준"
   ]
  },
  {
   "cell_type": "code",
   "execution_count": 7,
   "id": "f731c452",
   "metadata": {},
   "outputs": [
    {
     "data": {
      "text/plain": [
       "['xyz', 'abcd', 'spam']"
      ]
     },
     "execution_count": 7,
     "metadata": {},
     "output_type": "execute_result"
    }
   ],
   "source": [
    "L = ['abcd', 'xyz', 'spam']\n",
    "sorted(L, key=lambda x: len(x))"
   ]
  },
  {
   "cell_type": "code",
   "execution_count": 8,
   "id": "86cb10b0",
   "metadata": {},
   "outputs": [
    {
     "data": {
      "text/plain": [
       "['xyz', 'spam', 'abcd']"
      ]
     },
     "execution_count": 8,
     "metadata": {},
     "output_type": "execute_result"
    }
   ],
   "source": [
    "L = ['spam', 'xyz', 'abcd']\n",
    "sorted(L, key=lambda x: len(x))   # spam과 abcd 의 순서가 바뀜"
   ]
  },
  {
   "cell_type": "markdown",
   "id": "8c5b4cc8",
   "metadata": {},
   "source": [
    "example2: 레코드를 인덱스 기준으로"
   ]
  },
  {
   "cell_type": "code",
   "execution_count": 9,
   "id": "0f106715",
   "metadata": {},
   "outputs": [],
   "source": [
    "L = [{'name': 'John', 'score': 83}, {'name':'Paul', 'score':92}]\n",
    "L.sort(key=lambda x: x['name'])  #이름 순서"
   ]
  },
  {
   "cell_type": "code",
   "execution_count": 10,
   "id": "ddbb9d68",
   "metadata": {},
   "outputs": [
    {
     "data": {
      "text/plain": [
       "[{'name': 'John', 'score': 83}, {'name': 'Paul', 'score': 92}]"
      ]
     },
     "execution_count": 10,
     "metadata": {},
     "output_type": "execute_result"
    }
   ],
   "source": [
    "L"
   ]
  },
  {
   "cell_type": "code",
   "execution_count": 11,
   "id": "c116cb2c",
   "metadata": {},
   "outputs": [
    {
     "data": {
      "text/plain": [
       "[{'name': 'John', 'score': 83}, {'name': 'Paul', 'score': 92}]"
      ]
     },
     "execution_count": 11,
     "metadata": {},
     "output_type": "execute_result"
    }
   ],
   "source": [
    "L = [{'name': 'John', 'score': 83}, {'name':'Paul', 'score':92}]\n",
    "L.sort(key=lambda x: x['score'], reverse=True)  #점수 높은 순서\n",
    "L"
   ]
  },
 },
 "nbformat": 4,
 "nbformat_minor": 5
}
