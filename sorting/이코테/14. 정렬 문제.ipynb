{
 "cells": [
  {
   "cell_type": "markdown",
   "id": "54eeec37",
   "metadata": {},
   "source": [
    "# Q23. 국영수"
   ]
  },
  {
   "cell_type": "markdown",
   "id": "bd370ca1",
   "metadata": {},
   "source": [
    "백준 10825번"
   ]
  },
  {
   "cell_type": "code",
   "execution_count": 2,
   "id": "bddf2274",
   "metadata": {},
   "outputs": [
    {
     "name": "stdout",
     "output_type": "stream",
     "text": [
      "2\n",
      "Junkyu 50 60 100\n",
      "Sangkeun 50 80 50\n",
      "Junkyu\n",
      "Sangkeun\n"
     ]
    }
   ],
   "source": [
    "n = int(input())\n",
    "\n",
    "array = []\n",
    "for i in range(n):\n",
    "    input_data = input().split()\n",
    "    array.append((str(input_data[0]), int(input_data[1]), int(input_data[2]), int(input_data[3])))  #튜플 형태로\n",
    "\n",
    "array = sorted(array, key = lambda x: (-x[1], x[2], -x[3], x[0])) \n",
    "\n",
    "for i in array:\n",
    "    print(i[0])"
   ]
  },
  {
   "cell_type": "code",
   "execution_count": 2,
   "id": "a86eab83",
   "metadata": {},
   "outputs": [
    {
     "data": {
      "text/plain": [
       "[('Junkyu', 50, 60, 100), ('Sangkeun', 80, 60, 50)]"
      ]
     },
     "execution_count": 2,
     "metadata": {},
     "output_type": "execute_result"
    }
   ],
   "source": [
    "array"
   ]
  },
  {
   "cell_type": "code",
   "execution_count": 8,
   "id": "bfabbbc5",
   "metadata": {},
   "outputs": [
    {
     "ename": "ValueError",
     "evalue": "invalid literal for int() with base 10: ''",
     "output_type": "error",
     "traceback": [
      "\u001b[1;31m---------------------------------------------------------------------------\u001b[0m",
      "\u001b[1;31mValueError\u001b[0m                                Traceback (most recent call last)",
      "\u001b[1;32m~\\AppData\\Local\\Temp/ipykernel_8412/745197235.py\u001b[0m in \u001b[0;36m<module>\u001b[1;34m\u001b[0m\n\u001b[0;32m      1\u001b[0m \u001b[1;31m# 통과\u001b[0m\u001b[1;33m\u001b[0m\u001b[1;33m\u001b[0m\u001b[0m\n\u001b[0;32m      2\u001b[0m \u001b[1;33m\u001b[0m\u001b[0m\n\u001b[1;32m----> 3\u001b[1;33m \u001b[0mn\u001b[0m \u001b[1;33m=\u001b[0m \u001b[0mint\u001b[0m\u001b[1;33m(\u001b[0m\u001b[0minput\u001b[0m\u001b[1;33m(\u001b[0m\u001b[1;33m)\u001b[0m\u001b[1;33m)\u001b[0m\u001b[1;33m\u001b[0m\u001b[1;33m\u001b[0m\u001b[0m\n\u001b[0m\u001b[0;32m      4\u001b[0m \u001b[1;33m\u001b[0m\u001b[0m\n\u001b[0;32m      5\u001b[0m \u001b[0marray\u001b[0m \u001b[1;33m=\u001b[0m \u001b[1;33m[\u001b[0m\u001b[1;33m]\u001b[0m\u001b[1;33m\u001b[0m\u001b[1;33m\u001b[0m\u001b[0m\n",
      "\u001b[1;31mValueError\u001b[0m: invalid literal for int() with base 10: ''"
     ]
    }
   ],
   "source": [
    "# 통과\n",
    "\n",
    "n = int(input())\n",
    "\n",
    "array = []\n",
    "for i in range(n):\n",
    "    input_data = input().split()\n",
    "    array.append([str(input_data[0]), int(input_data[1]), int(input_data[2]), int(input_data[3])])  #리스트 형태로\n",
    "\n",
    "array = sorted(array, key = lambda x: (-x[1], x[2], -x[3], x[0])) \n",
    "\n",
    "for i in array:\n",
    "    print(i[0])"
   ]
  },
  {
   "cell_type": "code",
   "execution_count": 9,
   "id": "0ccbc71b",
   "metadata": {},
   "outputs": [
    {
     "ename": "ValueError",
     "evalue": "invalid literal for int() with base 10: ''",
     "output_type": "error",
     "traceback": [
      "\u001b[1;31m---------------------------------------------------------------------------\u001b[0m",
      "\u001b[1;31mValueError\u001b[0m                                Traceback (most recent call last)",
      "\u001b[1;32m~\\AppData\\Local\\Temp/ipykernel_8412/3808252769.py\u001b[0m in \u001b[0;36m<module>\u001b[1;34m\u001b[0m\n\u001b[0;32m      1\u001b[0m \u001b[1;31m# 통과\u001b[0m\u001b[1;33m\u001b[0m\u001b[1;33m\u001b[0m\u001b[0m\n\u001b[0;32m      2\u001b[0m \u001b[1;33m\u001b[0m\u001b[0m\n\u001b[1;32m----> 3\u001b[1;33m \u001b[0mN\u001b[0m \u001b[1;33m=\u001b[0m \u001b[0mint\u001b[0m\u001b[1;33m(\u001b[0m\u001b[0minput\u001b[0m\u001b[1;33m(\u001b[0m\u001b[1;33m)\u001b[0m\u001b[1;33m)\u001b[0m\u001b[1;33m\u001b[0m\u001b[1;33m\u001b[0m\u001b[0m\n\u001b[0m\u001b[0;32m      4\u001b[0m \u001b[1;33m\u001b[0m\u001b[0m\n\u001b[0;32m      5\u001b[0m \u001b[0mscore_list\u001b[0m \u001b[1;33m=\u001b[0m \u001b[1;33m[\u001b[0m\u001b[1;33m]\u001b[0m\u001b[1;33m\u001b[0m\u001b[1;33m\u001b[0m\u001b[0m\n",
      "\u001b[1;31mValueError\u001b[0m: invalid literal for int() with base 10: ''"
     ]
    }
   ],
   "source": [
    "# 통과\n",
    "\n",
    "N = int(input())\n",
    "\n",
    "score_list = []\n",
    "\n",
    "for i in range(N):\n",
    "    [name, kor, eng, math] = map(str, input().split())\n",
    "    \n",
    "    score_list.append([name, int(kor), int(eng), int(math)])\n",
    "    \n",
    "\n",
    "sorted_score_list = sorted(score_list, key=lambda x : (-x[1], x[2], -x[3], x[0]))\n",
    "\n",
    "for score in sorted_score_list:\n",
    "    print(score[0])"
   ]
  },
  {
   "cell_type": "markdown",
   "id": "673e4faa",
   "metadata": {},
   "source": [
    "## Q24. 안테나"
   ]
  },
  {
   "cell_type": "markdown",
   "id": "73c04398",
   "metadata": {},
   "source": [
    "백준 18310번"
   ]
  },
  {
   "cell_type": "code",
   "execution_count": 12,
   "id": "faef01e4",
   "metadata": {},
   "outputs": [
    {
     "name": "stdout",
     "output_type": "stream",
     "text": [
      "4\n",
      "1 5 7 9\n",
      "[1, 5, 7, 9]\n",
      "5\n"
     ]
    }
   ],
   "source": [
    "n = int(input())\n",
    "\n",
    "input_data = list(map(int, input().split()))\n",
    "input_data.sort()\n",
    "\n",
    "middle = (n-1)//2\n",
    "\n",
    "print(input_data[middle])"
   ]
  },
  {
   "cell_type": "markdown",
   "id": "d6babcd4",
   "metadata": {},
   "source": [
    "## Q. 실패율"
   ]
  },
  {
   "cell_type": "code",
   "execution_count": 131,
   "id": "974b72cc",
   "metadata": {},
   "outputs": [],
   "source": [
    "def solution(n, stages):\n",
    "    count = [0]*n \n",
    "    for i in range(len(stages)):\n",
    "        count[stages[i]-1] += 1  #해당 스테이지의 개수\n",
    "        \n",
    "    fail = [0]*n  #바뀐 부분 #실패율\n",
    "    for i in range(len(fail)):\n",
    "        if sum(count[i:]) == 0: \n",
    "            fail[i] = 0\n",
    "        else:\n",
    "            fail[i] = count[i]/sum(count[i:])\n",
    "            \n",
    "    fail = fail[0:-1]  #n+1 번째는 제외해야 하므로\n",
    "    \n",
    "    # 스테이지 번호와 실패율을 리스트 안의 리스트로 정리\n",
    "    final = []\n",
    "    for i in range(len(fail)):\n",
    "        final.append([i+1, fail[i]])\n",
    "        \n",
    "    \n",
    "    # 주어진 기준에 따라 sort\n",
    "    final_sort = sorted(final, key = lambda x: (-x[1], x[0]))\n",
    "    \n",
    "    # 스테이지 번호만을 리스트 형태로\n",
    "    answer = []\n",
    "    for i in range(len(final_sort)):\n",
    "        answer.append(final_sort[i][0])\n",
    "    return answer"
   ]
  },
  {
   "cell_type": "code",
   "execution_count": 132,
   "id": "4aa6d19f",
   "metadata": {},
   "outputs": [
    {
     "data": {
      "text/plain": [
       "[4, 1, 2, 3]"
      ]
     },
     "execution_count": 132,
     "metadata": {},
     "output_type": "execute_result"
    }
   ],
   "source": [
    "solution(5, [4,4,4,4,4])"
   ]
  },
  {
   "cell_type": "code",
   "execution_count": 133,
   "id": "9d0a7c55",
   "metadata": {},
   "outputs": [
    {
     "data": {
      "text/plain": [
       "[3, 4, 2, 1, 5]"
      ]
     },
     "execution_count": 133,
     "metadata": {},
     "output_type": "execute_result"
    }
   ],
   "source": [
    "solution(6, [2, 1, 2, 6, 2, 4, 3, 3])"
   ]
  },
  {
   "cell_type": "markdown",
   "id": "5a63bbb0",
   "metadata": {},
   "source": [
    "## Q. 카드 정렬하기"
   ]
  },
  {
   "cell_type": "code",
   "execution_count": 10,
   "id": "eb3292d4",
   "metadata": {},
   "outputs": [
    {
     "name": "stdout",
     "output_type": "stream",
     "text": [
      "3\n",
      "1\n",
      "2\n",
      "4\n",
      "10\n"
     ]
    }
   ],
   "source": [
    "n = int(input())\n",
    "\n",
    "input_data = []\n",
    "for i in range(n):\n",
    "    input_data.append(int(input()))\n",
    "\n",
    "summation = 0\n",
    "\n",
    "if len(input_data) ==1:\n",
    "    print(0)\n",
    "else:\n",
    "    while len(input_data) >= 2:\n",
    "        input_data.sort()\n",
    "        add = input_data[0]+input_data[1]\n",
    "        summation += add\n",
    "        input_data[1] = add\n",
    "        input_data = input_data[1:]\n",
    "print(summation)"
   ]
  },
  {
   "cell_type": "code",
   "execution_count": 2,
   "id": "451ebfdb",
   "metadata": {},
   "outputs": [],
   "source": [
    "def solution(array):\n",
    "    if len(array) == 1:\n",
    "        print(0)\n",
    "    else:\n",
    "        array.sort\n",
    "        add = array[0] + solution(array)[0]\n",
    "        array = array[-0]\n",
    "    return add"
   ]
  },
  {
   "cell_type": "code",
   "execution_count": null,
   "id": "abce5411",
   "metadata": {},
   "outputs": [],
   "source": [
    "solution([1, 3])"
   ]
  },
  {
   "cell_type": "code",
   "execution_count": null,
   "id": "76e9ccb7",
   "metadata": {},
   "outputs": [],
   "source": []
  }
 ],
 "metadata": {
  "kernelspec": {
   "display_name": "Python 3 (ipykernel)",
   "language": "python",
   "name": "python3"
  },
  "language_info": {
   "codemirror_mode": {
    "name": "ipython",
    "version": 3
   },
   "file_extension": ".py",
   "mimetype": "text/x-python",
   "name": "python",
   "nbconvert_exporter": "python",
   "pygments_lexer": "ipython3",
   "version": "3.9.7"
  }
 },
 "nbformat": 4,
 "nbformat_minor": 5
}
