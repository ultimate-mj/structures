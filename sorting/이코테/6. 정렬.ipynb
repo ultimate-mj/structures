{
 "cells": [
  {
   "cell_type": "markdown",
   "id": "d8b58fd9",
   "metadata": {},
   "source": [
    "## 선택정렬"
   ]
  },
  {
   "cell_type": "code",
   "execution_count": 1,
   "id": "4addc813",
   "metadata": {},
   "outputs": [],
   "source": [
    "array = [7, 5, 9, 0, 3, 1, 6, 2, 4, 8]"
   ]
  },
  {
   "cell_type": "code",
   "execution_count": 3,
   "id": "a0f27767",
   "metadata": {},
   "outputs": [],
   "source": [
    "for i in range(len(array)):\n",
    "    min_index = i\n",
    "    for j in range(i+1, len(array)):\n",
    "        if array[min_index] > array[j]:\n",
    "            min_index = j   #for j 문을 반복하게 되면 가장 작은 원소가 min_index에 담기게 됨\n",
    "    array[i], array[min_index] = array[min_index], array[i]  #가장 앞쪽 원소와 가장 작은 원소의 위치 바꾸기\n",
    "    # 스와프 연산을 위와 같이 많이 한다"
   ]
  },
  {
   "cell_type": "code",
   "execution_count": 4,
   "id": "c34a99c6",
   "metadata": {},
   "outputs": [
    {
     "name": "stdout",
     "output_type": "stream",
     "text": [
      "[0, 1, 2, 3, 4, 5, 6, 7, 8, 9]\n"
     ]
    }
   ],
   "source": [
    "print(array)"
   ]
  },
  {
   "cell_type": "markdown",
   "id": "10b85805",
   "metadata": {},
   "source": [
    "## 삽입정렬"
   ]
  },
  {
   "cell_type": "code",
   "execution_count": 17,
   "id": "8cabccb4",
   "metadata": {},
   "outputs": [
    {
     "name": "stdout",
     "output_type": "stream",
     "text": [
      "[0, 1, 2, 3, 4, 5, 6, 7, 8, 9]\n"
     ]
    }
   ],
   "source": [
    "array = [7, 5, 9, 0, 3, 1, 6, 2, 4, 8]\n",
    "\n",
    "for i in range(1, len(array)):  #2번째 원소부터 시작\n",
    "    for j in range(i, 0, -1):   #index i부터 1까지 1씩 김소하며 반복\n",
    "        if array[j] < array[j-1]:  \n",
    "            array[j], array[j-1] = array[j-1], array[j]  #j번째가 j-1번째보다 작으면 자리 바꿈\n",
    "        else:\n",
    "            break  #자기보다 작은 데이터를 만나면 그 위치에서 멈춤\n",
    "            \n",
    "print(array)"
   ]
  },
  {
   "cell_type": "markdown",
   "id": "30cd5f1a",
   "metadata": {},
   "source": [
    "## 퀵 정렬"
   ]
  },
  {
   "cell_type": "code",
   "execution_count": 18,
   "id": "2d80087d",
   "metadata": {},
   "outputs": [
    {
     "name": "stdout",
     "output_type": "stream",
     "text": [
      "[0, 1, 2, 3, 4, 5, 6, 7, 8, 9]\n"
     ]
    }
   ],
   "source": [
    "array = [5, 7, 9, 0, 3, 1, 6, 2, 4, 8]\n",
    "\n",
    "def quick_sort(array, start, end):\n",
    "    if start >= end:  #원소가 1개인 경우 종료\n",
    "        return\n",
    "    pivot = start  #피벗은 첫 번째 원소의 index\n",
    "    left = start +1  #피벗을 제외하고 가장 왼쪽 원소의 index\n",
    "    right = end\n",
    "    while(left <= right):  #엇갈리지 않는다면\n",
    "        while(left <= end and array[left] <= array[pivot]):  #left가 pivot보다 커질 때까지 left의 index 증가\n",
    "            left += 1\n",
    "        while(right > start and array[right] >= array[pivot]):  #right가 pivot보다 작아질 때까지 right의 index 감소\n",
    "            right -= 1\n",
    "        if(left > right):  #엇갈렸다면 작은 데이터와 피벗을 교체  #그러면 while 문 탈출\n",
    "            array[right], array[pivot] = array[pivot], array[right]\n",
    "        else:  #엇갈리지 않았다면 작은 데이터와 큰 데이터의 위치를 바꾸기\n",
    "            array[left], array[right] = array[right], array[left]\n",
    "    quick_sort(array, start, right-1)  #왼쪽 부분 퀵정렬\n",
    "    quick_sort(array, right+1, end)  #오른쪽 부분 퀵정렬"
   ]
  },
  {
   "cell_type": "code",
   "execution_count": 19,
   "id": "21ab3ea8",
   "metadata": {},
   "outputs": [
    {
     "name": "stdout",
     "output_type": "stream",
     "text": [
      "[0, 1, 2, 3, 4, 5, 6, 7, 8, 9]\n"
     ]
    }
   ],
   "source": [
    "quick_sort(array, 0, len(array)-1)\n",
    "print(array)"
   ]
  },
  {
   "cell_type": "markdown",
   "id": "cc81c851",
   "metadata": {},
   "source": [
    "list slicing 과 list comprehension을 사용하는 경우:"
   ]
  },
  {
   "cell_type": "code",
   "execution_count": 22,
   "id": "13e1533d",
   "metadata": {},
   "outputs": [],
   "source": [
    "array = [5, 7, 9, 0, 3, 1, 6, 2, 4, 8]\n",
    "\n",
    "def quick_sort(array):\n",
    "    if len(array) <= 1:\n",
    "        return array\n",
    "    pivot = array[0]\n",
    "    tail = array[1:] #피벗을 제외한 리스트\n",
    "    \n",
    "    left_side = [x for x in tail if x <= pivot]\n",
    "    right_side = [x for x in tail if x > pivot]\n",
    "    \n",
    "    return quick_sort(left_side) + [pivot] + quick_sort(right_side)"
   ]
  },
  {
   "cell_type": "code",
   "execution_count": 23,
   "id": "fef6b112",
   "metadata": {},
   "outputs": [
    {
     "data": {
      "text/plain": [
       "[0, 1, 2, 3, 4, 5, 6, 7, 8, 9]"
      ]
     },
     "execution_count": 23,
     "metadata": {},
     "output_type": "execute_result"
    }
   ],
   "source": [
    "quick_sort(array)"
   ]
  },
  {
   "cell_type": "markdown",
   "id": "1332af19",
   "metadata": {},
   "source": [
    "## 계수 정렬"
   ]
  },
  {
   "cell_type": "code",
   "execution_count": 24,
   "id": "795abf6e",
   "metadata": {},
   "outputs": [
    {
     "name": "stdout",
     "output_type": "stream",
     "text": [
      "0 0 1 1 2 2 3 4 5 5 6 7 8 9 9 "
     ]
    }
   ],
   "source": [
    "#모든 원소의 값이 0보다 크거나 같다고 가정\n",
    "array = [7, 5, 9, 0, 3, 1, 6, 2, 9, 1, 4, 8, 0, 5, 2]\n",
    "count = [0] * (max(array)+1)  #리스트 선언\n",
    "\n",
    "for i in range(len(array)):\n",
    "    count[array[i]] += 1  #각 데이터에 해당하는 인덱스의 값 증가\n",
    "    \n",
    "for i in range(len(count)):  #리스트 정렬 정보 확인\n",
    "    for j in range(count[i]):  #각 데이터의 횟수 = j\n",
    "        print(i, end=' ')"
   ]
  },
  {
   "cell_type": "code",
   "execution_count": null,
   "id": "325e8348",
   "metadata": {},
   "outputs": [],
   "source": []
  }
 ],
 "metadata": {
  "kernelspec": {
   "display_name": "Python 3 (ipykernel)",
   "language": "python",
   "name": "python3"
  },
  "language_info": {
   "codemirror_mode": {
    "name": "ipython",
    "version": 3
   },
   "file_extension": ".py",
   "mimetype": "text/x-python",
   "name": "python",
   "nbconvert_exporter": "python",
   "pygments_lexer": "ipython3",
   "version": "3.9.7"
  }
 },
 "nbformat": 4,
 "nbformat_minor": 5
}
