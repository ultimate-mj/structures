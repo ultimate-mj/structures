{
 "cells": [
  {
   "cell_type": "markdown",
   "id": "564cbb9c",
   "metadata": {},
   "source": [
    "## Q. 위에서 아래로"
   ]
  },
  {
   "cell_type": "markdown",
   "id": "8bebe0f9",
   "metadata": {},
   "source": [
    "하나의 수열에는 다양한 수가 존재한다. 이러한 수는 크기에 상관없이 나열되어 있다. 이 수를 큰 수부터 작은 수의 순서로 정렬해야 한다. 수열을 내림차순으로 정렬하는 프로그램을 만드시오."
   ]
  },
  {
   "cell_type": "markdown",
   "id": "bd5ff768",
   "metadata": {},
   "source": [
    "입력 조건:\n",
    "- 첫째 줄에 수열에 속해 있는 수의 개수 N이 주어진다. (1 <= N <= 500)\n",
    "- 둘째 줄부터 N+1번째 줄까지 N개의 수가 입력된다. 수의 범위는 1 이상 100,000 이하의 자연수이다."
   ]
  },
  {
   "cell_type": "markdown",
   "id": "c2763cd1",
   "metadata": {},
   "source": [
    "출력 조건:\n",
    "- 입력으로 주어진 수열이 내림차순으로 정렬된 결과를 공백으로 구분하여 출력한다. 동일한 수의 순서는 자유롭게 출력해도 괜찮다."
   ]
  },
  {
   "cell_type": "code",
   "execution_count": null,
   "id": "cf4397dd",
   "metadata": {},
   "outputs": [],
   "source": [
    "n = int(input())\n",
    "\n",
    "array = []\n",
    "n = 3\n",
    "for i in range(n):\n",
    "    array.append(i)  #원래는 i 대신 int(input()) 으로 되어 있었음"
   ]
  },
  {
   "cell_type": "code",
   "execution_count": 9,
   "id": "258a8aca",
   "metadata": {},
   "outputs": [
    {
     "data": {
      "text/plain": [
       "[0, 1, 2]"
      ]
     },
     "execution_count": 9,
     "metadata": {},
     "output_type": "execute_result"
    }
   ],
   "source": [
    "array"
   ]
  },
  {
   "cell_type": "code",
   "execution_count": 10,
   "id": "5bf3e804",
   "metadata": {},
   "outputs": [
    {
     "name": "stdout",
     "output_type": "stream",
     "text": [
      "[2, 1, 0]\n"
     ]
    }
   ],
   "source": [
    "array = sorted(array, reverse = True)\n",
    "print(array)"
   ]
  },
  {
   "cell_type": "code",
   "execution_count": 11,
   "id": "ab67d660",
   "metadata": {},
   "outputs": [
    {
     "name": "stdout",
     "output_type": "stream",
     "text": [
      "2 1 0 "
     ]
    }
   ],
   "source": [
    "for i in array:\n",
    "    print(i, end=' ')"
   ]
  },
  {
   "cell_type": "markdown",
   "id": "92842ecd",
   "metadata": {},
   "source": [
    "## Q. 성적이 낮은 순서로 학생 출력하기"
   ]
  },
  {
   "cell_type": "markdown",
   "id": "d591ba90",
   "metadata": {},
   "source": [
    "N명의 학생 정보가 있다. 학생 정보는 학생의 이름과 학생의 성적으로 구분된다. 각 학생의 이름과 성적 정보가 주어졌을 때 성적이 낮은 순서대로 학생의 이름을 출력하는 프로그램을 작성하시오."
   ]
  },
  {
   "cell_type": "markdown",
   "id": "66ac6de5",
   "metadata": {},
   "source": [
    "입력 조건:\n",
    "- 첫 번째 줄에 학생의 수 N이 입력된다. 1 <= N <= 100,000\n",
    "- 두 번째 줄부터 N+1번째 줄에는 학생의 이름을 나타내는 문자열 A와 학생의 성적을 나타내는 정수 B가 공백으로 구분되어 입력된다. 문자열 A의 길이와 학생의 성적은 100 이하의 자연수이다."
   ]
  },
  {
   "cell_type": "markdown",
   "id": "e07b2448",
   "metadata": {},
   "source": [
    "출력 조건:\n",
    "- 모든 학생의 이름을 성적이 낮은 순서대로 출력한다. 성적이 동일한 학생들의 순서는 자유롭게 출력해도 괜찮다."
   ]
  },
  {
   "cell_type": "code",
   "execution_count": null,
   "id": "179cddb4",
   "metadata": {},
   "outputs": [],
   "source": [
    "n = int(input())\n",
    "\n",
    "array = []\n",
    "for i in range(n):\n",
    "    input_data = input().split()\n",
    "    array.append((input_data[0], int(input_data[1])))  #튜플 형태로\n",
    "    \n",
    "array = sorted(array, key = lambda student: student[1])  #성적이 낮은 순으로 정렬\n",
    "\n",
    "for student in array:  \n",
    "    print(student[0], end = ' ')  #이름을 출력"
   ]
  },
  {
   "cell_type": "markdown",
   "id": "b3f687a3",
   "metadata": {},
   "source": [
    "## Q. 두 배열의 원소 교체"
   ]
  },
  {
   "cell_type": "markdown",
   "id": "066bb608",
   "metadata": {},
   "source": [
    "두 개의 배열 A와 B를 가지고 있다. 두 배열은 N개의 원소로 구성되어 있으며, 배열의 원소는 모두 자연수이다. 최대 K번의 바꿔치기 연산을 수행할 수 있는데, 바꿔치기란 배열 A의 원소 하나와 배열 B의 원소 하나를 바꾸는 것을 말한다. 최종 목표는 배열 A의 모든 원소의 합이 최대가 되도록 하는 것이다.\n",
    "\n",
    "N, K, 배열 A와 B가 주어졌을 때 최대 K번의 바꿔치기 연산을 수행하여 만들 수 있는 배열 A의 모든 원소의 합의 최댓값을 출력하라"
   ]
  },
  {
   "cell_type": "code",
   "execution_count": null,
   "id": "3d987a00",
   "metadata": {},
   "outputs": [],
   "source": [
    "n, k = map(int, input().split())\n",
    "a = list(map(int, input().split()))\n",
    "b = list(map(int, input().split()))\n",
    "\n",
    "a.sort() #a 오름차순\n",
    "b.sort(reverse = True) #b 오름차순\n",
    "\n",
    "for i in range(k):\n",
    "    if a[i] < b[i]:\n",
    "        a[i], b[i] = b[i], a[i]\n",
    "    else:\n",
    "        break\n",
    "print(sum(a))"
   ]
  },
  {
   "cell_type": "code",
   "execution_count": null,
   "id": "7f8b3cf7",
   "metadata": {},
   "outputs": [],
   "source": []
  }
 ],
 "metadata": {
  "kernelspec": {
   "display_name": "Python 3 (ipykernel)",
   "language": "python",
   "name": "python3"
  },
  "language_info": {
   "codemirror_mode": {
    "name": "ipython",
    "version": 3
   },
   "file_extension": ".py",
   "mimetype": "text/x-python",
   "name": "python",
   "nbconvert_exporter": "python",
   "pygments_lexer": "ipython3",
   "version": "3.9.7"
  }
 },
 "nbformat": 4,
 "nbformat_minor": 5
}
