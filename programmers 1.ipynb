{
 "cells": [
  {
   "cell_type": "markdown",
   "id": "b5aac019",
   "metadata": {},
   "source": [
    "### Example 1"
   ]
  },
  {
   "cell_type": "code",
   "execution_count": 4,
   "id": "797fe4a0",
   "metadata": {},
   "outputs": [],
   "source": [
    "import time"
   ]
  },
  {
   "cell_type": "code",
   "execution_count": 10,
   "id": "84baee14",
   "metadata": {},
   "outputs": [
    {
     "name": "stdout",
     "output_type": "stream",
     "text": [
      "NUmber of elemets: 100000\n",
      "Searching for the maximum value...\n"
     ]
    }
   ],
   "source": [
    "n = int(input(\"NUmber of elemets: \"))\n",
    "haystack = [k for k in range(n)] \n",
    "#0부터 1까지 나열하는 list (random value 로 해도 되지만 시간이 많이 걸려서 안 함)\n",
    "\n",
    "print(\"Searching for the maximum value...\")\n",
    "#마지막 원소인 것을 현재 알고 있기는 하지만 random 인 경우 뭐가 가장 빠를까?"
   ]
  },
  {
   "cell_type": "code",
   "execution_count": 8,
   "id": "a1a80ae0",
   "metadata": {},
   "outputs": [],
   "source": [
    "ts = time.time()  #현재 시간\n",
    "maximum = max(haystack)\n",
    "elapsed = time.time() - ts  #걸린 시간"
   ]
  },
  {
   "cell_type": "code",
   "execution_count": 9,
   "id": "378363ad",
   "metadata": {},
   "outputs": [
    {
     "name": "stdout",
     "output_type": "stream",
     "text": [
      "Maximum element = 99999, Elapsed time = 0.00\n"
     ]
    }
   ],
   "source": [
    "print(\"Maximum element = %d, Elapsed time = %.2f\" % (maximum, elapsed))"
   ]
  },
  {
   "cell_type": "markdown",
   "id": "d034a2a4",
   "metadata": {},
   "source": [
    "### 과제1"
   ]
  },
  {
   "cell_type": "code",
   "execution_count": 16,
   "id": "c3a61e54",
   "metadata": {},
   "outputs": [],
   "source": [
    "list = [1, 3, 5, 7, 9]"
   ]
  },
  {
   "cell_type": "code",
   "execution_count": 15,
   "id": "20418378",
   "metadata": {},
   "outputs": [],
   "source": [
    "def solution(x):\n",
    "    sol = x[0] + x[len(x)-1]\n",
    "    print(sol)"
   ]
  },
  {
   "cell_type": "code",
   "execution_count": 17,
   "id": "6eaac7f5",
   "metadata": {},
   "outputs": [
    {
     "name": "stdout",
     "output_type": "stream",
     "text": [
      "10\n"
     ]
    }
   ],
   "source": [
    "solution(list)"
   ]
  }
 ],
 "metadata": {
  "kernelspec": {
   "display_name": "Python 3 (ipykernel)",
   "language": "python",
   "name": "python3"
  },
  "language_info": {
   "codemirror_mode": {
    "name": "ipython",
    "version": 3
   },
   "file_extension": ".py",
   "mimetype": "text/x-python",
   "name": "python",
   "nbconvert_exporter": "python",
   "pygments_lexer": "ipython3",
   "version": "3.9.7"
  }
 },
 "nbformat": 4,
 "nbformat_minor": 5
}
